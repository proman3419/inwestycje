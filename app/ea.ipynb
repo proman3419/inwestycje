{
 "cells": [
  {
   "cell_type": "code",
   "execution_count": null,
   "metadata": {
    "collapsed": true
   },
   "outputs": [],
   "source": [
    "from preprocessing import preprocess_data\n",
    "from setup import setup_ea, eaSimpleWithRestartsAndFileDump"
   ]
  },
  {
   "cell_type": "code",
   "execution_count": null,
   "outputs": [],
   "source": [
    "stock_data, ta_features, _ = preprocess_data(\"./data/wig_d.csv\")\n",
    "ta_features"
   ],
   "metadata": {
    "collapsed": false
   }
  },
  {
   "cell_type": "code",
   "execution_count": null,
   "outputs": [],
   "source": [
    "# Genetic algorithm parameters:\n",
    "POPULATION_SIZE = 500\n",
    "TOURNAMENT_SIZE_POPULATION_RATIO = 0.1\n",
    "CROSSOVER_PROBABILITY = 0.5\n",
    "MUTATION_PROBABILITY = 0.2\n",
    "\n",
    "# Simulation parameters:\n",
    "N_RESTARTS = 1000\n",
    "MAX_N_GENERATIONS = 10000\n",
    "INITIAL_MONEY = 1000\n",
    "COMMISSION = 0 # 0.0001 # 0.01%"
   ],
   "metadata": {
    "collapsed": false
   }
  },
  {
   "cell_type": "code",
   "execution_count": null,
   "outputs": [],
   "source": [
    "toolbox, stats, hall_of_fame = setup_ea(\n",
    "    stock_data,\n",
    "    ta_features,\n",
    "    POPULATION_SIZE,\n",
    "    TOURNAMENT_SIZE_POPULATION_RATIO,\n",
    "    INITIAL_MONEY,\n",
    "    COMMISSION,\n",
    ")"
   ],
   "metadata": {
    "collapsed": false
   }
  },
  {
   "cell_type": "code",
   "execution_count": null,
   "outputs": [],
   "source": [
    "eaSimpleWithRestartsAndFileDump(\n",
    "    toolbox=toolbox,\n",
    "    nrestarts=N_RESTARTS,\n",
    "    maxngens=MAX_N_GENERATIONS,\n",
    "    cxpb=CROSSOVER_PROBABILITY,\n",
    "    mutpb=MUTATION_PROBABILITY,\n",
    "    stats=stats,\n",
    "    halloffame=hall_of_fame,\n",
    "    p={\"initial_money\": INITIAL_MONEY, \"commision\": COMMISSION},\n",
    "    verbose=True,\n",
    ")"
   ],
   "metadata": {
    "collapsed": false
   }
  },
  {
   "cell_type": "code",
   "execution_count": null,
   "outputs": [],
   "source": [],
   "metadata": {
    "collapsed": false
   }
  }
 ],
 "metadata": {
  "kernelspec": {
   "display_name": "Python 3",
   "language": "python",
   "name": "python3"
  },
  "language_info": {
   "codemirror_mode": {
    "name": "ipython",
    "version": 2
   },
   "file_extension": ".py",
   "mimetype": "text/x-python",
   "name": "python",
   "nbconvert_exporter": "python",
   "pygments_lexer": "ipython2",
   "version": "2.7.6"
  }
 },
 "nbformat": 4,
 "nbformat_minor": 0
}
