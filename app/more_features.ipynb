{
 "cells": [
  {
   "cell_type": "code",
   "execution_count": 124,
   "id": "initial_id",
   "metadata": {
    "collapsed": true,
    "ExecuteTime": {
     "end_time": "2024-04-22T11:42:30.224062Z",
     "start_time": "2024-04-22T11:42:30.205045Z"
    }
   },
   "outputs": [],
   "source": [
    "from preprocessing import load_data\n",
    "import random\n",
    "import ta"
   ]
  },
  {
   "cell_type": "code",
   "outputs": [],
   "source": [
    "random.seed(420)"
   ],
   "metadata": {
    "collapsed": false,
    "ExecuteTime": {
     "end_time": "2024-04-22T11:42:30.240043Z",
     "start_time": "2024-04-22T11:42:30.229063Z"
    }
   },
   "id": "1d66d8a52a8af58d",
   "execution_count": 125
  },
  {
   "cell_type": "code",
   "outputs": [
    {
     "name": "stdout",
     "output_type": "stream",
     "text": [
      "84\n"
     ]
    }
   ],
   "source": [
    "stock_data, ta_features, preview = load_data(\"./data/wig_d.csv\")\n",
    "print(ta_features.shape[1])"
   ],
   "metadata": {
    "collapsed": false,
    "ExecuteTime": {
     "end_time": "2024-04-22T11:42:31.873052Z",
     "start_time": "2024-04-22T11:42:30.250045Z"
    }
   },
   "id": "c0ba26dd1e8e9836",
   "execution_count": 126
  },
  {
   "cell_type": "code",
   "outputs": [
    {
     "name": "stdout",
     "output_type": "stream",
     "text": [
      "(<class 'ta.momentum.AwesomeOscillatorIndicator'>, <Signature (self, high: pandas.core.series.Series, low: pandas.core.series.Series, window1: int = 5, window2: int = 34, fillna: bool = False)>)\n",
      "(<class 'ta.utils.IndicatorMixin'>, <Signature (self, /, *args, **kwargs)>)\n",
      "(<class 'ta.momentum.KAMAIndicator'>, <Signature (self, close: pandas.core.series.Series, window: int = 10, pow1: int = 2, pow2: int = 30, fillna: bool = False)>)\n",
      "(<class 'ta.momentum.PercentagePriceOscillator'>, <Signature (self, close: pandas.core.series.Series, window_slow: int = 26, window_fast: int = 12, window_sign: int = 9, fillna: bool = False)>)\n",
      "(<class 'ta.momentum.PercentageVolumeOscillator'>, <Signature (self, volume: pandas.core.series.Series, window_slow: int = 26, window_fast: int = 12, window_sign: int = 9, fillna: bool = False)>)\n",
      "(<class 'ta.momentum.ROCIndicator'>, <Signature (self, close: pandas.core.series.Series, window: int = 12, fillna: bool = False)>)\n",
      "(<class 'ta.momentum.RSIIndicator'>, <Signature (self, close: pandas.core.series.Series, window: int = 14, fillna: bool = False)>)\n",
      "(<class 'ta.momentum.StochRSIIndicator'>, <Signature (self, close: pandas.core.series.Series, window: int = 14, smooth1: int = 3, smooth2: int = 3, fillna: bool = False)>)\n",
      "(<class 'ta.momentum.StochasticOscillator'>, <Signature (self, high: pandas.core.series.Series, low: pandas.core.series.Series, close: pandas.core.series.Series, window: int = 14, smooth_window: int = 3, fillna: bool = False)>)\n",
      "(<class 'ta.momentum.TSIIndicator'>, <Signature (self, close: pandas.core.series.Series, window_slow: int = 25, window_fast: int = 13, fillna: bool = False)>)\n",
      "(<class 'ta.momentum.UltimateOscillator'>, <Signature (self, high: pandas.core.series.Series, low: pandas.core.series.Series, close: pandas.core.series.Series, window1: int = 7, window2: int = 14, window3: int = 28, weight1: float = 4.0, weight2: float = 2.0, weight3: float = 1.0, fillna: bool = False)>)\n",
      "(<class 'ta.momentum.WilliamsRIndicator'>, <Signature (self, high: pandas.core.series.Series, low: pandas.core.series.Series, close: pandas.core.series.Series, lbp: int = 14, fillna: bool = False)>)\n"
     ]
    }
   ],
   "source": [
    "import inspect\n",
    "import ta\n",
    "\n",
    "def get_constructors(module):\n",
    "    # Get all class names defined in the module\n",
    "    class_names = [name for name in dir(module) if isinstance(getattr(module, name), type)]\n",
    "    constructors = []\n",
    "    # Print constructors for each class with their arguments\n",
    "    for class_name in class_names:\n",
    "        class_ = getattr(module, class_name)\n",
    "        # Check if it's a class (not a module or function)\n",
    "        if isinstance(class_, type):\n",
    "            # Check if the class has a __init__ method\n",
    "            if hasattr(class_, '__init__'):\n",
    "                # Get the constructor signature\n",
    "                init_signature = inspect.signature(getattr(class_, '__init__'))\n",
    "                full_class_name = f'{module.__name__}.{class_name}'\n",
    "                constructor = (class_, init_signature)\n",
    "                constructors.append(constructor)\n",
    "                print(constructor)\n",
    "            else:\n",
    "                # print(f\"Class {class_name} does not have a constructor (__init__ method)\")\n",
    "                pass\n",
    "    return constructors\n",
    "\n",
    "constructors = get_constructors(ta.momentum)"
   ],
   "metadata": {
    "collapsed": false,
    "ExecuteTime": {
     "end_time": "2024-04-22T11:42:31.889047Z",
     "start_time": "2024-04-22T11:42:31.877047Z"
    }
   },
   "id": "1588a14116018931",
   "execution_count": 127
  },
  {
   "cell_type": "code",
   "outputs": [
    {
     "name": "stdout",
     "output_type": "stream",
     "text": [
      "{'GENERATED_AwesomeOscillatorIndicator': <ta.momentum.AwesomeOscillatorIndicator object at 0x000001A8922A35E0>, 'GENERATED_IndicatorMixin': <ta.utils.IndicatorMixin object at 0x000001A8922A16C0>, 'GENERATED_KAMAIndicator': <ta.momentum.KAMAIndicator object at 0x000001A8922E7670>, 'GENERATED_PercentagePriceOscillator': <ta.momentum.PercentagePriceOscillator object at 0x000001A8922E5AE0>, 'GENERATED_PercentageVolumeOscillator': <ta.momentum.PercentageVolumeOscillator object at 0x000001A8922E7EE0>, 'GENERATED_ROCIndicator': <ta.momentum.ROCIndicator object at 0x000001A8922E76D0>, 'GENERATED_RSIIndicator': <ta.momentum.RSIIndicator object at 0x000001A8923355A0>, 'GENERATED_StochRSIIndicator': <ta.momentum.StochRSIIndicator object at 0x000001A8EF180B20>, 'GENERATED_StochasticOscillator': <ta.momentum.StochasticOscillator object at 0x000001A891D686D0>, 'GENERATED_TSIIndicator': <ta.momentum.TSIIndicator object at 0x000001A8903BF3A0>, 'GENERATED_UltimateOscillator': <ta.momentum.UltimateOscillator object at 0x000001A8903BE110>, 'GENERATED_WilliamsRIndicator': <ta.momentum.WilliamsRIndicator object at 0x000001A891D557B0>}\n"
     ]
    }
   ],
   "source": [
    "def inject_params(constructors):\n",
    "    instances = dict()\n",
    "    for constructor in constructors:\n",
    "        init_signature = constructor[1]\n",
    "        to_inject = dict()\n",
    "        for param in init_signature.parameters.values():\n",
    "            if param.name in ('self', 'args', 'kwargs'):\n",
    "                continue\n",
    "            if param.name in stock_data:\n",
    "                to_inject[param.name] = stock_data[param.name]\n",
    "            else:\n",
    "                _type = type(param.default)\n",
    "                value = None\n",
    "                if _type is int:\n",
    "                    value = random.randint(0, 100)\n",
    "                if _type is float:\n",
    "                    value = random.uniform(0, 100)\n",
    "                if _type is bool:\n",
    "                    value = False\n",
    "                to_inject[param.name] = value\n",
    "        instance = constructor[0]() if len(init_signature.parameters.values()) == 1 else constructor[0](**to_inject)\n",
    "        instances['GENERATED_' + constructor[0].__name__] = instance\n",
    "    return instances    \n",
    "    \n",
    "instances = inject_params(constructors)\n",
    "print(instances)"
   ],
   "metadata": {
    "collapsed": false,
    "ExecuteTime": {
     "end_time": "2024-04-22T11:46:34.577464Z",
     "start_time": "2024-04-22T11:46:34.491468Z"
    }
   },
   "id": "700bd1180d5aef3d",
   "execution_count": 134
  },
  {
   "cell_type": "code",
   "outputs": [
    {
     "name": "stdout",
     "output_type": "stream",
     "text": [
      "{'GENERATED_AwesomeOscillatorIndicator': 100             NaN\n",
      "101             NaN\n",
      "102             NaN\n",
      "103             NaN\n",
      "104             NaN\n",
      "           ...     \n",
      "2278     560.619578\n",
      "2279      89.917103\n",
      "2280    -338.715557\n",
      "2281    -744.142894\n",
      "2282   -1068.856688\n",
      "Name: ao, Length: 2183, dtype: float64, 'GENERATED_KAMAIndicator': 100              NaN\n",
      "101              NaN\n",
      "102              NaN\n",
      "103              NaN\n",
      "104              NaN\n",
      "            ...     \n",
      "2278    48487.029655\n",
      "2279    48853.135897\n",
      "2280    49096.053734\n",
      "2281    49347.285641\n",
      "2282    49447.186712\n",
      "Name: kama, Length: 2183, dtype: float64, 'GENERATED_PercentagePriceOscillator': 100          NaN\n",
      "101          NaN\n",
      "102          NaN\n",
      "103          NaN\n",
      "104          NaN\n",
      "          ...   \n",
      "2278    2.502698\n",
      "2279    1.805336\n",
      "2280    1.175356\n",
      "2281    0.588341\n",
      "2282    0.179075\n",
      "Name: PPO_sign_87_2, Length: 2183, dtype: float64, 'GENERATED_PercentageVolumeOscillator': 100          NaN\n",
      "101          NaN\n",
      "102          NaN\n",
      "103          NaN\n",
      "104          NaN\n",
      "          ...   \n",
      "2278    7.660338\n",
      "2279    7.915920\n",
      "2280    8.186760\n",
      "2281    8.549289\n",
      "2282    8.965145\n",
      "Name: PVO_sign_24_66, Length: 2183, dtype: float64, 'GENERATED_ROCIndicator': 100           NaN\n",
      "101           NaN\n",
      "102           NaN\n",
      "103           NaN\n",
      "104           NaN\n",
      "          ...    \n",
      "2278   -11.402226\n",
      "2279   -11.137177\n",
      "2280   -11.288799\n",
      "2281   -10.418360\n",
      "2282   -13.227543\n",
      "Name: roc, Length: 2183, dtype: float64, 'GENERATED_RSIIndicator': 100           NaN\n",
      "101           NaN\n",
      "102           NaN\n",
      "103           NaN\n",
      "104           NaN\n",
      "          ...    \n",
      "2278    53.077541\n",
      "2279    53.017431\n",
      "2280    52.788261\n",
      "2281    53.039748\n",
      "2282    51.188508\n",
      "Name: rsi, Length: 2183, dtype: float64, 'GENERATED_StochRSIIndicator': 100          NaN\n",
      "101          NaN\n",
      "102          NaN\n",
      "103          NaN\n",
      "104          NaN\n",
      "          ...   \n",
      "2278    0.736228\n",
      "2279    0.749548\n",
      "2280    0.764101\n",
      "2281    0.779018\n",
      "2282    0.792502\n",
      "Name: stochrsi_k, Length: 2183, dtype: float64, 'GENERATED_StochasticOscillator': 100           NaN\n",
      "101           NaN\n",
      "102           NaN\n",
      "103           NaN\n",
      "104           NaN\n",
      "          ...    \n",
      "2278    43.574092\n",
      "2279    45.162899\n",
      "2280    46.710929\n",
      "2281    48.310217\n",
      "2282    49.623997\n",
      "Name: stoch_k_signal, Length: 2183, dtype: float64, 'GENERATED_TSIIndicator': 100          NaN\n",
      "101          NaN\n",
      "102          NaN\n",
      "103          NaN\n",
      "104          NaN\n",
      "          ...   \n",
      "2278   -0.948847\n",
      "2279    0.259201\n",
      "2280    1.256789\n",
      "2281    2.201420\n",
      "2282    2.536547\n",
      "Name: tsi, Length: 2183, dtype: float64, 'GENERATED_UltimateOscillator': 100           NaN\n",
      "101           NaN\n",
      "102           NaN\n",
      "103           NaN\n",
      "104           NaN\n",
      "          ...    \n",
      "2278    56.469959\n",
      "2279    56.499494\n",
      "2280    54.819499\n",
      "2281    56.104972\n",
      "2282    51.764084\n",
      "Name: uo, Length: 2183, dtype: float64, 'GENERATED_WilliamsRIndicator': 100           NaN\n",
      "101           NaN\n",
      "102           NaN\n",
      "103           NaN\n",
      "104           NaN\n",
      "          ...    \n",
      "2278    -0.495193\n",
      "2279    -1.570247\n",
      "2280    -3.134944\n",
      "2281    -2.280643\n",
      "2282   -12.520884\n",
      "Name: wr, Length: 2183, dtype: float64}\n"
     ]
    }
   ],
   "source": [
    "def retrieve_features(instances):\n",
    "    features = dict()\n",
    "    for feature_name, instance in instances.items():\n",
    "        method_names = [m for m in dir(instance) if m[0] != '_']\n",
    "        for method_name in method_names:\n",
    "            method = getattr(instance, method_name)\n",
    "            feature_vals = method()\n",
    "            if feature_vals.isna().sum() < 365:\n",
    "                features[feature_name] = feature_vals\n",
    "        if len(method_names) == 0:\n",
    "            continue\n",
    "    return features\n",
    "\n",
    "features = retrieve_features(instances)\n",
    "print(features)"
   ],
   "metadata": {
    "collapsed": false,
    "ExecuteTime": {
     "end_time": "2024-04-22T11:46:38.028496Z",
     "start_time": "2024-04-22T11:46:37.980500Z"
    }
   },
   "id": "922d925ad59855b",
   "execution_count": 135
  }
 ],
 "metadata": {
  "kernelspec": {
   "display_name": "Python 3",
   "language": "python",
   "name": "python3"
  },
  "language_info": {
   "codemirror_mode": {
    "name": "ipython",
    "version": 2
   },
   "file_extension": ".py",
   "mimetype": "text/x-python",
   "name": "python",
   "nbconvert_exporter": "python",
   "pygments_lexer": "ipython2",
   "version": "2.7.6"
  }
 },
 "nbformat": 4,
 "nbformat_minor": 5
}
