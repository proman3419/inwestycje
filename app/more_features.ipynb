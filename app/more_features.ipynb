{
 "cells": [
  {
   "cell_type": "code",
   "execution_count": 1,
   "id": "initial_id",
   "metadata": {
    "collapsed": true,
    "ExecuteTime": {
     "end_time": "2024-04-22T12:25:54.898568Z",
     "start_time": "2024-04-22T12:25:54.696554Z"
    }
   },
   "outputs": [],
   "source": [
    "from preprocessing import load_data, get_constructors, inject_params, retrieve_features, append_features\n",
    "import random\n",
    "import pandas as pd\n",
    "import ta"
   ]
  },
  {
   "cell_type": "code",
   "outputs": [],
   "source": [
    "random.seed(420)"
   ],
   "metadata": {
    "collapsed": false,
    "ExecuteTime": {
     "end_time": "2024-04-22T12:25:54.914550Z",
     "start_time": "2024-04-22T12:25:54.900550Z"
    }
   },
   "id": "1d66d8a52a8af58d",
   "execution_count": 2
  },
  {
   "cell_type": "code",
   "outputs": [
    {
     "name": "stdout",
     "output_type": "stream",
     "text": [
      "(1918, 84)\n"
     ]
    },
    {
     "data": {
      "text/plain": "      volume_adi  volume_obv  volume_cmf  volume_fi  volume_em  volume_sma_em  \\\n365     0.006009    0.094874    0.941641   0.800880   0.820727       0.901769   \n366     0.010085    0.067148    0.908381   0.790832   0.819671       0.900598   \n367     0.030662    0.093509    0.968945   0.836003   0.821472       0.900718   \n368     0.021698    0.128281    0.921666   0.831179   0.821483       0.899950   \n369     0.014627    0.103969    0.872146   0.805248   0.817366       0.900179   \n...          ...         ...         ...        ...        ...            ...   \n2278    0.976102    0.938315    0.783798   0.993424   0.871783       0.991989   \n2279    0.981290    0.923087    0.820142   0.955853   0.829428       0.982671   \n2280    0.981810    0.906549    0.779111   0.914818   0.819299       0.980124   \n2281    0.994691    0.928762    0.837785   0.910447   0.817958       0.979381   \n2282    1.000000    0.907753    0.851577   0.766907   0.743920       0.958884   \n\n      volume_vpt  volume_vwap  volume_mfi  volume_nvi  ...  momentum_ppo  \\\n365     0.615958     0.136714    0.459783    0.341002  ...      0.847761   \n366     0.613798     0.138438    0.493822    0.341002  ...      0.843452   \n367     0.652594     0.140952    0.516197    0.369727  ...      0.845106   \n368     0.658175     0.144114    0.555109    0.369727  ...      0.845887   \n369     0.647337     0.146147    0.526596    0.360938  ...      0.843416   \n...          ...          ...         ...         ...  ...           ...   \n2278    0.811603     0.312019    0.649625    0.412539  ...      0.966601   \n2279    0.809756     0.323694    0.666461    0.410112  ...      0.984643   \n2280    0.802191     0.335261    0.582716    0.410112  ...      0.993649   \n2281    0.814606     0.347676    0.654219    0.410112  ...      1.000000   \n2282    0.736537     0.355054    0.609536    0.335817  ...      0.985750   \n\n      momentum_ppo_signal  momentum_ppo_hist  momentum_pvo  \\\n365              0.883304           0.550882      0.754635   \n366              0.880940           0.545478      0.774311   \n367              0.879435           0.552450      0.775482   \n368              0.878413           0.556376      0.820520   \n369              0.877019           0.553355      0.788863   \n...                   ...                ...           ...   \n2278             0.937050           0.723119      0.714089   \n2279             0.956861           0.725604      0.695299   \n2280             0.974810           0.710479      0.690118   \n2281             0.990651           0.693349      0.733067   \n2282             1.000000           0.640622      0.749816   \n\n      momentum_pvo_signal  momentum_pvo_hist  momentum_kama  others_dr  \\\n365              0.800912           0.454282       0.095323   0.723399   \n366              0.824712           0.455591       0.095391   0.682926   \n367              0.844046           0.431166       0.095770   0.740789   \n368              0.870848           0.472013       0.096149   0.691829   \n369              0.884323           0.399113       0.096263   0.669190   \n...                   ...                ...            ...        ...   \n2278             0.754736           0.447659       0.349639   0.825358   \n2279             0.767887           0.397341       0.371642   0.681307   \n2280             0.777104           0.375822       0.379975   0.668755   \n2281             0.795286           0.424862       0.388276   0.706705   \n2282             0.814046           0.428027       0.384853   0.547085   \n\n      others_dlr  others_cr  \n365     0.742011   0.217329  \n366     0.703169   0.216556  \n367     0.758612   0.231158  \n368     0.711738   0.232766  \n369     0.689920   0.228294  \n...          ...        ...  \n2278    0.838599   0.471939  \n2279    0.701609   0.470523  \n2280    0.689500   0.465184  \n2281    0.726024   0.471686  \n2282    0.570645   0.428287  \n\n[1918 rows x 84 columns]",
      "text/html": "<div>\n<style scoped>\n    .dataframe tbody tr th:only-of-type {\n        vertical-align: middle;\n    }\n\n    .dataframe tbody tr th {\n        vertical-align: top;\n    }\n\n    .dataframe thead th {\n        text-align: right;\n    }\n</style>\n<table border=\"1\" class=\"dataframe\">\n  <thead>\n    <tr style=\"text-align: right;\">\n      <th></th>\n      <th>volume_adi</th>\n      <th>volume_obv</th>\n      <th>volume_cmf</th>\n      <th>volume_fi</th>\n      <th>volume_em</th>\n      <th>volume_sma_em</th>\n      <th>volume_vpt</th>\n      <th>volume_vwap</th>\n      <th>volume_mfi</th>\n      <th>volume_nvi</th>\n      <th>...</th>\n      <th>momentum_ppo</th>\n      <th>momentum_ppo_signal</th>\n      <th>momentum_ppo_hist</th>\n      <th>momentum_pvo</th>\n      <th>momentum_pvo_signal</th>\n      <th>momentum_pvo_hist</th>\n      <th>momentum_kama</th>\n      <th>others_dr</th>\n      <th>others_dlr</th>\n      <th>others_cr</th>\n    </tr>\n  </thead>\n  <tbody>\n    <tr>\n      <th>365</th>\n      <td>0.006009</td>\n      <td>0.094874</td>\n      <td>0.941641</td>\n      <td>0.800880</td>\n      <td>0.820727</td>\n      <td>0.901769</td>\n      <td>0.615958</td>\n      <td>0.136714</td>\n      <td>0.459783</td>\n      <td>0.341002</td>\n      <td>...</td>\n      <td>0.847761</td>\n      <td>0.883304</td>\n      <td>0.550882</td>\n      <td>0.754635</td>\n      <td>0.800912</td>\n      <td>0.454282</td>\n      <td>0.095323</td>\n      <td>0.723399</td>\n      <td>0.742011</td>\n      <td>0.217329</td>\n    </tr>\n    <tr>\n      <th>366</th>\n      <td>0.010085</td>\n      <td>0.067148</td>\n      <td>0.908381</td>\n      <td>0.790832</td>\n      <td>0.819671</td>\n      <td>0.900598</td>\n      <td>0.613798</td>\n      <td>0.138438</td>\n      <td>0.493822</td>\n      <td>0.341002</td>\n      <td>...</td>\n      <td>0.843452</td>\n      <td>0.880940</td>\n      <td>0.545478</td>\n      <td>0.774311</td>\n      <td>0.824712</td>\n      <td>0.455591</td>\n      <td>0.095391</td>\n      <td>0.682926</td>\n      <td>0.703169</td>\n      <td>0.216556</td>\n    </tr>\n    <tr>\n      <th>367</th>\n      <td>0.030662</td>\n      <td>0.093509</td>\n      <td>0.968945</td>\n      <td>0.836003</td>\n      <td>0.821472</td>\n      <td>0.900718</td>\n      <td>0.652594</td>\n      <td>0.140952</td>\n      <td>0.516197</td>\n      <td>0.369727</td>\n      <td>...</td>\n      <td>0.845106</td>\n      <td>0.879435</td>\n      <td>0.552450</td>\n      <td>0.775482</td>\n      <td>0.844046</td>\n      <td>0.431166</td>\n      <td>0.095770</td>\n      <td>0.740789</td>\n      <td>0.758612</td>\n      <td>0.231158</td>\n    </tr>\n    <tr>\n      <th>368</th>\n      <td>0.021698</td>\n      <td>0.128281</td>\n      <td>0.921666</td>\n      <td>0.831179</td>\n      <td>0.821483</td>\n      <td>0.899950</td>\n      <td>0.658175</td>\n      <td>0.144114</td>\n      <td>0.555109</td>\n      <td>0.369727</td>\n      <td>...</td>\n      <td>0.845887</td>\n      <td>0.878413</td>\n      <td>0.556376</td>\n      <td>0.820520</td>\n      <td>0.870848</td>\n      <td>0.472013</td>\n      <td>0.096149</td>\n      <td>0.691829</td>\n      <td>0.711738</td>\n      <td>0.232766</td>\n    </tr>\n    <tr>\n      <th>369</th>\n      <td>0.014627</td>\n      <td>0.103969</td>\n      <td>0.872146</td>\n      <td>0.805248</td>\n      <td>0.817366</td>\n      <td>0.900179</td>\n      <td>0.647337</td>\n      <td>0.146147</td>\n      <td>0.526596</td>\n      <td>0.360938</td>\n      <td>...</td>\n      <td>0.843416</td>\n      <td>0.877019</td>\n      <td>0.553355</td>\n      <td>0.788863</td>\n      <td>0.884323</td>\n      <td>0.399113</td>\n      <td>0.096263</td>\n      <td>0.669190</td>\n      <td>0.689920</td>\n      <td>0.228294</td>\n    </tr>\n    <tr>\n      <th>...</th>\n      <td>...</td>\n      <td>...</td>\n      <td>...</td>\n      <td>...</td>\n      <td>...</td>\n      <td>...</td>\n      <td>...</td>\n      <td>...</td>\n      <td>...</td>\n      <td>...</td>\n      <td>...</td>\n      <td>...</td>\n      <td>...</td>\n      <td>...</td>\n      <td>...</td>\n      <td>...</td>\n      <td>...</td>\n      <td>...</td>\n      <td>...</td>\n      <td>...</td>\n      <td>...</td>\n    </tr>\n    <tr>\n      <th>2278</th>\n      <td>0.976102</td>\n      <td>0.938315</td>\n      <td>0.783798</td>\n      <td>0.993424</td>\n      <td>0.871783</td>\n      <td>0.991989</td>\n      <td>0.811603</td>\n      <td>0.312019</td>\n      <td>0.649625</td>\n      <td>0.412539</td>\n      <td>...</td>\n      <td>0.966601</td>\n      <td>0.937050</td>\n      <td>0.723119</td>\n      <td>0.714089</td>\n      <td>0.754736</td>\n      <td>0.447659</td>\n      <td>0.349639</td>\n      <td>0.825358</td>\n      <td>0.838599</td>\n      <td>0.471939</td>\n    </tr>\n    <tr>\n      <th>2279</th>\n      <td>0.981290</td>\n      <td>0.923087</td>\n      <td>0.820142</td>\n      <td>0.955853</td>\n      <td>0.829428</td>\n      <td>0.982671</td>\n      <td>0.809756</td>\n      <td>0.323694</td>\n      <td>0.666461</td>\n      <td>0.410112</td>\n      <td>...</td>\n      <td>0.984643</td>\n      <td>0.956861</td>\n      <td>0.725604</td>\n      <td>0.695299</td>\n      <td>0.767887</td>\n      <td>0.397341</td>\n      <td>0.371642</td>\n      <td>0.681307</td>\n      <td>0.701609</td>\n      <td>0.470523</td>\n    </tr>\n    <tr>\n      <th>2280</th>\n      <td>0.981810</td>\n      <td>0.906549</td>\n      <td>0.779111</td>\n      <td>0.914818</td>\n      <td>0.819299</td>\n      <td>0.980124</td>\n      <td>0.802191</td>\n      <td>0.335261</td>\n      <td>0.582716</td>\n      <td>0.410112</td>\n      <td>...</td>\n      <td>0.993649</td>\n      <td>0.974810</td>\n      <td>0.710479</td>\n      <td>0.690118</td>\n      <td>0.777104</td>\n      <td>0.375822</td>\n      <td>0.379975</td>\n      <td>0.668755</td>\n      <td>0.689500</td>\n      <td>0.465184</td>\n    </tr>\n    <tr>\n      <th>2281</th>\n      <td>0.994691</td>\n      <td>0.928762</td>\n      <td>0.837785</td>\n      <td>0.910447</td>\n      <td>0.817958</td>\n      <td>0.979381</td>\n      <td>0.814606</td>\n      <td>0.347676</td>\n      <td>0.654219</td>\n      <td>0.410112</td>\n      <td>...</td>\n      <td>1.000000</td>\n      <td>0.990651</td>\n      <td>0.693349</td>\n      <td>0.733067</td>\n      <td>0.795286</td>\n      <td>0.424862</td>\n      <td>0.388276</td>\n      <td>0.706705</td>\n      <td>0.726024</td>\n      <td>0.471686</td>\n    </tr>\n    <tr>\n      <th>2282</th>\n      <td>1.000000</td>\n      <td>0.907753</td>\n      <td>0.851577</td>\n      <td>0.766907</td>\n      <td>0.743920</td>\n      <td>0.958884</td>\n      <td>0.736537</td>\n      <td>0.355054</td>\n      <td>0.609536</td>\n      <td>0.335817</td>\n      <td>...</td>\n      <td>0.985750</td>\n      <td>1.000000</td>\n      <td>0.640622</td>\n      <td>0.749816</td>\n      <td>0.814046</td>\n      <td>0.428027</td>\n      <td>0.384853</td>\n      <td>0.547085</td>\n      <td>0.570645</td>\n      <td>0.428287</td>\n    </tr>\n  </tbody>\n</table>\n<p>1918 rows × 84 columns</p>\n</div>"
     },
     "metadata": {},
     "output_type": "display_data"
    }
   ],
   "source": [
    "stock_data, ta_features, preview = load_data(\"./data/wig_d.csv\")\n",
    "print(ta_features.shape)\n",
    "display(ta_features)"
   ],
   "metadata": {
    "collapsed": false,
    "ExecuteTime": {
     "end_time": "2024-04-22T12:25:56.172600Z",
     "start_time": "2024-04-22T12:25:54.917558Z"
    }
   },
   "id": "c0ba26dd1e8e9836",
   "execution_count": 3
  },
  {
   "cell_type": "code",
   "outputs": [
    {
     "name": "stdout",
     "output_type": "stream",
     "text": [
      "(<class 'ta.momentum.AwesomeOscillatorIndicator'>, <Signature (self, high: pandas.core.series.Series, low: pandas.core.series.Series, window1: int = 5, window2: int = 34, fillna: bool = False)>)\n",
      "(<class 'ta.utils.IndicatorMixin'>, <Signature (self, /, *args, **kwargs)>)\n",
      "(<class 'ta.momentum.KAMAIndicator'>, <Signature (self, close: pandas.core.series.Series, window: int = 10, pow1: int = 2, pow2: int = 30, fillna: bool = False)>)\n",
      "(<class 'ta.momentum.PercentagePriceOscillator'>, <Signature (self, close: pandas.core.series.Series, window_slow: int = 26, window_fast: int = 12, window_sign: int = 9, fillna: bool = False)>)\n",
      "(<class 'ta.momentum.PercentageVolumeOscillator'>, <Signature (self, volume: pandas.core.series.Series, window_slow: int = 26, window_fast: int = 12, window_sign: int = 9, fillna: bool = False)>)\n",
      "(<class 'ta.momentum.ROCIndicator'>, <Signature (self, close: pandas.core.series.Series, window: int = 12, fillna: bool = False)>)\n",
      "(<class 'ta.momentum.RSIIndicator'>, <Signature (self, close: pandas.core.series.Series, window: int = 14, fillna: bool = False)>)\n",
      "(<class 'ta.momentum.StochRSIIndicator'>, <Signature (self, close: pandas.core.series.Series, window: int = 14, smooth1: int = 3, smooth2: int = 3, fillna: bool = False)>)\n",
      "(<class 'ta.momentum.StochasticOscillator'>, <Signature (self, high: pandas.core.series.Series, low: pandas.core.series.Series, close: pandas.core.series.Series, window: int = 14, smooth_window: int = 3, fillna: bool = False)>)\n",
      "(<class 'ta.momentum.TSIIndicator'>, <Signature (self, close: pandas.core.series.Series, window_slow: int = 25, window_fast: int = 13, fillna: bool = False)>)\n",
      "(<class 'ta.momentum.UltimateOscillator'>, <Signature (self, high: pandas.core.series.Series, low: pandas.core.series.Series, close: pandas.core.series.Series, window1: int = 7, window2: int = 14, window3: int = 28, weight1: float = 4.0, weight2: float = 2.0, weight3: float = 1.0, fillna: bool = False)>)\n",
      "(<class 'ta.momentum.WilliamsRIndicator'>, <Signature (self, high: pandas.core.series.Series, low: pandas.core.series.Series, close: pandas.core.series.Series, lbp: int = 14, fillna: bool = False)>)\n",
      "[(<class 'ta.momentum.AwesomeOscillatorIndicator'>, <Signature (self, high: pandas.core.series.Series, low: pandas.core.series.Series, window1: int = 5, window2: int = 34, fillna: bool = False)>), (<class 'ta.utils.IndicatorMixin'>, <Signature (self, /, *args, **kwargs)>), (<class 'ta.momentum.KAMAIndicator'>, <Signature (self, close: pandas.core.series.Series, window: int = 10, pow1: int = 2, pow2: int = 30, fillna: bool = False)>), (<class 'ta.momentum.PercentagePriceOscillator'>, <Signature (self, close: pandas.core.series.Series, window_slow: int = 26, window_fast: int = 12, window_sign: int = 9, fillna: bool = False)>), (<class 'ta.momentum.PercentageVolumeOscillator'>, <Signature (self, volume: pandas.core.series.Series, window_slow: int = 26, window_fast: int = 12, window_sign: int = 9, fillna: bool = False)>), (<class 'ta.momentum.ROCIndicator'>, <Signature (self, close: pandas.core.series.Series, window: int = 12, fillna: bool = False)>), (<class 'ta.momentum.RSIIndicator'>, <Signature (self, close: pandas.core.series.Series, window: int = 14, fillna: bool = False)>), (<class 'ta.momentum.StochRSIIndicator'>, <Signature (self, close: pandas.core.series.Series, window: int = 14, smooth1: int = 3, smooth2: int = 3, fillna: bool = False)>), (<class 'ta.momentum.StochasticOscillator'>, <Signature (self, high: pandas.core.series.Series, low: pandas.core.series.Series, close: pandas.core.series.Series, window: int = 14, smooth_window: int = 3, fillna: bool = False)>), (<class 'ta.momentum.TSIIndicator'>, <Signature (self, close: pandas.core.series.Series, window_slow: int = 25, window_fast: int = 13, fillna: bool = False)>), (<class 'ta.momentum.UltimateOscillator'>, <Signature (self, high: pandas.core.series.Series, low: pandas.core.series.Series, close: pandas.core.series.Series, window1: int = 7, window2: int = 14, window3: int = 28, weight1: float = 4.0, weight2: float = 2.0, weight3: float = 1.0, fillna: bool = False)>), (<class 'ta.momentum.WilliamsRIndicator'>, <Signature (self, high: pandas.core.series.Series, low: pandas.core.series.Series, close: pandas.core.series.Series, lbp: int = 14, fillna: bool = False)>)]\n"
     ]
    }
   ],
   "source": [
    "constructors = get_constructors(ta.momentum)\n",
    "print(constructors)"
   ],
   "metadata": {
    "collapsed": false,
    "ExecuteTime": {
     "end_time": "2024-04-22T12:25:56.188570Z",
     "start_time": "2024-04-22T12:25:56.175553Z"
    }
   },
   "id": "1588a14116018931",
   "execution_count": 4
  },
  {
   "cell_type": "code",
   "outputs": [
    {
     "name": "stdout",
     "output_type": "stream",
     "text": [
      "{'GENERATED_AwesomeOscillatorIndicator': <ta.momentum.AwesomeOscillatorIndicator object at 0x000001D90C398D60>, 'GENERATED_IndicatorMixin': <ta.utils.IndicatorMixin object at 0x000001D90C2DF6A0>, 'GENERATED_KAMAIndicator': <ta.momentum.KAMAIndicator object at 0x000001D90C39AE30>, 'GENERATED_PercentagePriceOscillator': <ta.momentum.PercentagePriceOscillator object at 0x000001D90C029540>, 'GENERATED_PercentageVolumeOscillator': <ta.momentum.PercentageVolumeOscillator object at 0x000001D90C399510>, 'GENERATED_ROCIndicator': <ta.momentum.ROCIndicator object at 0x000001D90C39BEB0>, 'GENERATED_RSIIndicator': <ta.momentum.RSIIndicator object at 0x000001D90C39B010>, 'GENERATED_StochRSIIndicator': <ta.momentum.StochRSIIndicator object at 0x000001D90C39BE20>, 'GENERATED_StochasticOscillator': <ta.momentum.StochasticOscillator object at 0x000001D90C2DF190>, 'GENERATED_TSIIndicator': <ta.momentum.TSIIndicator object at 0x000001D90C39B5E0>, 'GENERATED_UltimateOscillator': <ta.momentum.UltimateOscillator object at 0x000001D90C39B730>, 'GENERATED_WilliamsRIndicator': <ta.momentum.WilliamsRIndicator object at 0x000001D90C39B6D0>}\n"
     ]
    }
   ],
   "source": [
    "instances = inject_params(constructors, stock_data)\n",
    "print(instances)"
   ],
   "metadata": {
    "collapsed": false,
    "ExecuteTime": {
     "end_time": "2024-04-22T12:25:56.372555Z",
     "start_time": "2024-04-22T12:25:56.190553Z"
    }
   },
   "id": "700bd1180d5aef3d",
   "execution_count": 5
  },
  {
   "cell_type": "code",
   "outputs": [
    {
     "name": "stdout",
     "output_type": "stream",
     "text": [
      "GENERATED_AwesomeOscillatorIndicator 85\n",
      "GENERATED_KAMAIndicator 99\n",
      "GENERATED_PercentagePriceOscillator 50\n",
      "GENERATED_PercentagePriceOscillator 146\n",
      "GENERATED_PercentagePriceOscillator 146\n",
      "GENERATED_PercentageVolumeOscillator 85\n",
      "GENERATED_PercentageVolumeOscillator 168\n",
      "GENERATED_PercentageVolumeOscillator 168\n",
      "GENERATED_ROCIndicator 14\n",
      "GENERATED_RSIIndicator 2\n",
      "GENERATED_StochRSIIndicator 130\n",
      "GENERATED_StochRSIIndicator 231\n",
      "GENERATED_StochRSIIndicator 170\n",
      "GENERATED_StochasticOscillator 82\n",
      "GENERATED_StochasticOscillator 83\n",
      "GENERATED_TSIIndicator 195\n",
      "GENERATED_UltimateOscillator 79\n",
      "GENERATED_WilliamsRIndicator 42\n",
      "{'GENERATED_AwesomeOscillatorIndicator': 365             NaN\n",
      "366             NaN\n",
      "367             NaN\n",
      "368             NaN\n",
      "369             NaN\n",
      "           ...     \n",
      "2278    2733.932171\n",
      "2279    3370.709244\n",
      "2280    3911.923740\n",
      "2281    4067.983895\n",
      "2282    3709.315310\n",
      "Name: ao, Length: 1918, dtype: float64, 'GENERATED_KAMAIndicator': 365              NaN\n",
      "366              NaN\n",
      "367              NaN\n",
      "368              NaN\n",
      "369              NaN\n",
      "            ...     \n",
      "2278    55591.312643\n",
      "2279    55578.458957\n",
      "2280    55565.185651\n",
      "2281    55552.552655\n",
      "2282    55536.022523\n",
      "Name: kama, Length: 1918, dtype: float64, 'GENERATED_PercentagePriceOscillator': 365          NaN\n",
      "366          NaN\n",
      "367          NaN\n",
      "368          NaN\n",
      "369          NaN\n",
      "          ...   \n",
      "2278   -3.458403\n",
      "2279   -3.299870\n",
      "2280   -3.137176\n",
      "2281   -2.971471\n",
      "2282   -2.811107\n",
      "Name: PPO_sign_12_51, Length: 1918, dtype: float64, 'GENERATED_PercentageVolumeOscillator': 365          NaN\n",
      "366          NaN\n",
      "367          NaN\n",
      "368          NaN\n",
      "369          NaN\n",
      "          ...   \n",
      "2278   -0.340391\n",
      "2279   -0.342506\n",
      "2280   -0.344798\n",
      "2281   -0.347733\n",
      "2282   -0.351125\n",
      "Name: PVO_sign_86_84, Length: 1918, dtype: float64, 'GENERATED_ROCIndicator': 365           NaN\n",
      "366           NaN\n",
      "367           NaN\n",
      "368           NaN\n",
      "369           NaN\n",
      "          ...    \n",
      "2278    12.252787\n",
      "2279    11.973109\n",
      "2280    10.788353\n",
      "2281    11.749841\n",
      "2282     9.263472\n",
      "Name: roc, Length: 1918, dtype: float64, 'GENERATED_RSIIndicator': 365           NaN\n",
      "366           NaN\n",
      "367     96.588681\n",
      "368     97.058243\n",
      "369     61.660879\n",
      "          ...    \n",
      "2278    99.544362\n",
      "2279    96.792518\n",
      "2280    83.711287\n",
      "2281    86.936618\n",
      "2282    29.150345\n",
      "Name: rsi, Length: 1918, dtype: float64, 'GENERATED_StochRSIIndicator': 365          NaN\n",
      "366          NaN\n",
      "367          NaN\n",
      "368          NaN\n",
      "369          NaN\n",
      "          ...   \n",
      "2278    0.748867\n",
      "2279    0.760376\n",
      "2280    0.772140\n",
      "2281    0.782993\n",
      "2282    0.790361\n",
      "Name: stochrsi_k, Length: 1918, dtype: float64, 'GENERATED_StochasticOscillator': 365           NaN\n",
      "366           NaN\n",
      "367           NaN\n",
      "368           NaN\n",
      "369           NaN\n",
      "          ...    \n",
      "2278    66.824220\n",
      "2279    69.872255\n",
      "2280    69.421088\n",
      "2281    69.498789\n",
      "2282    67.177611\n",
      "Name: stoch_k_signal, Length: 1918, dtype: float64, 'GENERATED_TSIIndicator': 365           NaN\n",
      "366           NaN\n",
      "367           NaN\n",
      "368           NaN\n",
      "369           NaN\n",
      "          ...    \n",
      "2278   -12.207098\n",
      "2279   -11.756676\n",
      "2280   -11.334060\n",
      "2281   -10.914291\n",
      "2282   -10.587761\n",
      "Name: tsi, Length: 1918, dtype: float64, 'GENERATED_UltimateOscillator': 365           NaN\n",
      "366           NaN\n",
      "367           NaN\n",
      "368           NaN\n",
      "369           NaN\n",
      "          ...    \n",
      "2278    55.451751\n",
      "2279    57.027384\n",
      "2280    54.864231\n",
      "2281    56.062090\n",
      "2282    54.163491\n",
      "Name: uo, Length: 1918, dtype: float64, 'GENERATED_WilliamsRIndicator': 365           NaN\n",
      "366           NaN\n",
      "367           NaN\n",
      "368           NaN\n",
      "369           NaN\n",
      "          ...    \n",
      "2278    -0.742712\n",
      "2279    -2.690274\n",
      "2280    -5.990235\n",
      "2281    -3.662677\n",
      "2282   -19.683310\n",
      "Name: wr, Length: 1918, dtype: float64}\n"
     ]
    }
   ],
   "source": [
    "features = retrieve_features(instances)\n",
    "print(features)"
   ],
   "metadata": {
    "collapsed": false,
    "ExecuteTime": {
     "end_time": "2024-04-22T12:25:56.420552Z",
     "start_time": "2024-04-22T12:25:56.376560Z"
    }
   },
   "id": "922d925ad59855b",
   "execution_count": 6
  },
  {
   "cell_type": "code",
   "outputs": [
    {
     "name": "stdout",
     "output_type": "stream",
     "text": [
      "(1518, 106)\n"
     ]
    },
    {
     "data": {
      "text/plain": "      volume_adi  volume_obv  volume_cmf  volume_fi  volume_em  volume_sma_em  \\\n765     0.481167    0.530279    0.347591   0.753449   0.819195       0.868265   \n766     0.476635    0.520459    0.316546   0.739340   0.817595       0.869404   \n767     0.480584    0.511404    0.401502   0.737530   0.804600       0.868892   \n768     0.484606    0.517441    0.482896   0.744939   0.825589       0.870605   \n769     0.486043    0.523956    0.454586   0.750667   0.824306       0.870822   \n...          ...         ...         ...        ...        ...            ...   \n2278    0.976102    0.938315    0.783798   0.993424   0.871783       0.991989   \n2279    0.981290    0.923087    0.820142   0.955853   0.829428       0.982671   \n2280    0.981810    0.906549    0.779111   0.914818   0.819299       0.980124   \n2281    0.994691    0.928762    0.837785   0.910447   0.817958       0.979381   \n2282    1.000000    0.907753    0.851577   0.766907   0.743920       0.958884   \n\n      volume_vpt  volume_vwap  volume_mfi  volume_nvi  ...  \\\n765     0.549035     0.423765    0.428659    0.748485  ...   \n766     0.540150     0.420771    0.430409    0.748485  ...   \n767     0.537933     0.418520    0.413584    0.743019  ...   \n768     0.541580     0.417205    0.415429    0.756484  ...   \n769     0.544806     0.415680    0.414038    0.756484  ...   \n...          ...          ...         ...         ...  ...   \n2278    0.811603     0.312019    0.649625    0.412539  ...   \n2279    0.809756     0.323694    0.666461    0.410112  ...   \n2280    0.802191     0.335261    0.582716    0.410112  ...   \n2281    0.814606     0.347676    0.654219    0.410112  ...   \n2282    0.736537     0.355054    0.609536    0.335817  ...   \n\n      GENERATED_KAMAIndicator  GENERATED_PercentagePriceOscillator  \\\n765              48429.142282                             0.094828   \n766              48437.267970                             0.076293   \n767              48445.083795                             0.057553   \n768              48453.622435                             0.039789   \n769              48462.702126                             0.023769   \n...                       ...                                  ...   \n2278             55591.312643                            -3.458403   \n2279             55578.458957                            -3.299870   \n2280             55565.185651                            -3.137176   \n2281             55552.552655                            -2.971471   \n2282             55536.022523                            -2.811107   \n\n      GENERATED_PercentageVolumeOscillator  GENERATED_ROCIndicator  \\\n765                               0.204793               -1.294052   \n766                               0.217160               -1.472292   \n767                               0.229311               -1.241065   \n768                               0.241651               -0.964712   \n769                               0.254095               -1.154163   \n...                                    ...                     ...   \n2278                             -0.340391               12.252787   \n2279                             -0.342506               11.973109   \n2280                             -0.344798               10.788353   \n2281                             -0.347733               11.749841   \n2282                             -0.351125                9.263472   \n\n      GENERATED_RSIIndicator  GENERATED_StochRSIIndicator  \\\n765                71.988171                     0.371766   \n766                44.665073                     0.377681   \n767                38.734841                     0.376878   \n768                58.898085                     0.378007   \n769                70.774306                     0.381450   \n...                      ...                          ...   \n2278               99.544362                     0.748867   \n2279               96.792518                     0.760376   \n2280               83.711287                     0.772140   \n2281               86.936618                     0.782993   \n2282               29.150345                     0.790361   \n\n      GENERATED_StochasticOscillator  GENERATED_TSIIndicator  \\\n765                        45.015554                1.822393   \n766                        44.041432                1.724253   \n767                        40.224125                1.620707   \n768                        41.407836                1.542347   \n769                        45.040788                1.484504   \n...                              ...                     ...   \n2278                       66.824220              -12.207098   \n2279                       69.872255              -11.756676   \n2280                       69.421088              -11.334060   \n2281                       69.498789              -10.914291   \n2282                       67.177611              -10.587761   \n\n      GENERATED_UltimateOscillator  GENERATED_WilliamsRIndicator  \n765                      47.397110                    -39.145049  \n766                      44.128809                    -46.927099  \n767                      45.332575                    -49.019785  \n768                      47.301960                    -55.813535  \n769                      48.533182                    -60.626852  \n...                            ...                           ...  \n2278                     55.451751                     -0.742712  \n2279                     57.027384                     -2.690274  \n2280                     54.864231                     -5.990235  \n2281                     56.062090                     -3.662677  \n2282                     54.163491                    -19.683310  \n\n[1518 rows x 106 columns]",
      "text/html": "<div>\n<style scoped>\n    .dataframe tbody tr th:only-of-type {\n        vertical-align: middle;\n    }\n\n    .dataframe tbody tr th {\n        vertical-align: top;\n    }\n\n    .dataframe thead th {\n        text-align: right;\n    }\n</style>\n<table border=\"1\" class=\"dataframe\">\n  <thead>\n    <tr style=\"text-align: right;\">\n      <th></th>\n      <th>volume_adi</th>\n      <th>volume_obv</th>\n      <th>volume_cmf</th>\n      <th>volume_fi</th>\n      <th>volume_em</th>\n      <th>volume_sma_em</th>\n      <th>volume_vpt</th>\n      <th>volume_vwap</th>\n      <th>volume_mfi</th>\n      <th>volume_nvi</th>\n      <th>...</th>\n      <th>GENERATED_KAMAIndicator</th>\n      <th>GENERATED_PercentagePriceOscillator</th>\n      <th>GENERATED_PercentageVolumeOscillator</th>\n      <th>GENERATED_ROCIndicator</th>\n      <th>GENERATED_RSIIndicator</th>\n      <th>GENERATED_StochRSIIndicator</th>\n      <th>GENERATED_StochasticOscillator</th>\n      <th>GENERATED_TSIIndicator</th>\n      <th>GENERATED_UltimateOscillator</th>\n      <th>GENERATED_WilliamsRIndicator</th>\n    </tr>\n  </thead>\n  <tbody>\n    <tr>\n      <th>765</th>\n      <td>0.481167</td>\n      <td>0.530279</td>\n      <td>0.347591</td>\n      <td>0.753449</td>\n      <td>0.819195</td>\n      <td>0.868265</td>\n      <td>0.549035</td>\n      <td>0.423765</td>\n      <td>0.428659</td>\n      <td>0.748485</td>\n      <td>...</td>\n      <td>48429.142282</td>\n      <td>0.094828</td>\n      <td>0.204793</td>\n      <td>-1.294052</td>\n      <td>71.988171</td>\n      <td>0.371766</td>\n      <td>45.015554</td>\n      <td>1.822393</td>\n      <td>47.397110</td>\n      <td>-39.145049</td>\n    </tr>\n    <tr>\n      <th>766</th>\n      <td>0.476635</td>\n      <td>0.520459</td>\n      <td>0.316546</td>\n      <td>0.739340</td>\n      <td>0.817595</td>\n      <td>0.869404</td>\n      <td>0.540150</td>\n      <td>0.420771</td>\n      <td>0.430409</td>\n      <td>0.748485</td>\n      <td>...</td>\n      <td>48437.267970</td>\n      <td>0.076293</td>\n      <td>0.217160</td>\n      <td>-1.472292</td>\n      <td>44.665073</td>\n      <td>0.377681</td>\n      <td>44.041432</td>\n      <td>1.724253</td>\n      <td>44.128809</td>\n      <td>-46.927099</td>\n    </tr>\n    <tr>\n      <th>767</th>\n      <td>0.480584</td>\n      <td>0.511404</td>\n      <td>0.401502</td>\n      <td>0.737530</td>\n      <td>0.804600</td>\n      <td>0.868892</td>\n      <td>0.537933</td>\n      <td>0.418520</td>\n      <td>0.413584</td>\n      <td>0.743019</td>\n      <td>...</td>\n      <td>48445.083795</td>\n      <td>0.057553</td>\n      <td>0.229311</td>\n      <td>-1.241065</td>\n      <td>38.734841</td>\n      <td>0.376878</td>\n      <td>40.224125</td>\n      <td>1.620707</td>\n      <td>45.332575</td>\n      <td>-49.019785</td>\n    </tr>\n    <tr>\n      <th>768</th>\n      <td>0.484606</td>\n      <td>0.517441</td>\n      <td>0.482896</td>\n      <td>0.744939</td>\n      <td>0.825589</td>\n      <td>0.870605</td>\n      <td>0.541580</td>\n      <td>0.417205</td>\n      <td>0.415429</td>\n      <td>0.756484</td>\n      <td>...</td>\n      <td>48453.622435</td>\n      <td>0.039789</td>\n      <td>0.241651</td>\n      <td>-0.964712</td>\n      <td>58.898085</td>\n      <td>0.378007</td>\n      <td>41.407836</td>\n      <td>1.542347</td>\n      <td>47.301960</td>\n      <td>-55.813535</td>\n    </tr>\n    <tr>\n      <th>769</th>\n      <td>0.486043</td>\n      <td>0.523956</td>\n      <td>0.454586</td>\n      <td>0.750667</td>\n      <td>0.824306</td>\n      <td>0.870822</td>\n      <td>0.544806</td>\n      <td>0.415680</td>\n      <td>0.414038</td>\n      <td>0.756484</td>\n      <td>...</td>\n      <td>48462.702126</td>\n      <td>0.023769</td>\n      <td>0.254095</td>\n      <td>-1.154163</td>\n      <td>70.774306</td>\n      <td>0.381450</td>\n      <td>45.040788</td>\n      <td>1.484504</td>\n      <td>48.533182</td>\n      <td>-60.626852</td>\n    </tr>\n    <tr>\n      <th>...</th>\n      <td>...</td>\n      <td>...</td>\n      <td>...</td>\n      <td>...</td>\n      <td>...</td>\n      <td>...</td>\n      <td>...</td>\n      <td>...</td>\n      <td>...</td>\n      <td>...</td>\n      <td>...</td>\n      <td>...</td>\n      <td>...</td>\n      <td>...</td>\n      <td>...</td>\n      <td>...</td>\n      <td>...</td>\n      <td>...</td>\n      <td>...</td>\n      <td>...</td>\n      <td>...</td>\n    </tr>\n    <tr>\n      <th>2278</th>\n      <td>0.976102</td>\n      <td>0.938315</td>\n      <td>0.783798</td>\n      <td>0.993424</td>\n      <td>0.871783</td>\n      <td>0.991989</td>\n      <td>0.811603</td>\n      <td>0.312019</td>\n      <td>0.649625</td>\n      <td>0.412539</td>\n      <td>...</td>\n      <td>55591.312643</td>\n      <td>-3.458403</td>\n      <td>-0.340391</td>\n      <td>12.252787</td>\n      <td>99.544362</td>\n      <td>0.748867</td>\n      <td>66.824220</td>\n      <td>-12.207098</td>\n      <td>55.451751</td>\n      <td>-0.742712</td>\n    </tr>\n    <tr>\n      <th>2279</th>\n      <td>0.981290</td>\n      <td>0.923087</td>\n      <td>0.820142</td>\n      <td>0.955853</td>\n      <td>0.829428</td>\n      <td>0.982671</td>\n      <td>0.809756</td>\n      <td>0.323694</td>\n      <td>0.666461</td>\n      <td>0.410112</td>\n      <td>...</td>\n      <td>55578.458957</td>\n      <td>-3.299870</td>\n      <td>-0.342506</td>\n      <td>11.973109</td>\n      <td>96.792518</td>\n      <td>0.760376</td>\n      <td>69.872255</td>\n      <td>-11.756676</td>\n      <td>57.027384</td>\n      <td>-2.690274</td>\n    </tr>\n    <tr>\n      <th>2280</th>\n      <td>0.981810</td>\n      <td>0.906549</td>\n      <td>0.779111</td>\n      <td>0.914818</td>\n      <td>0.819299</td>\n      <td>0.980124</td>\n      <td>0.802191</td>\n      <td>0.335261</td>\n      <td>0.582716</td>\n      <td>0.410112</td>\n      <td>...</td>\n      <td>55565.185651</td>\n      <td>-3.137176</td>\n      <td>-0.344798</td>\n      <td>10.788353</td>\n      <td>83.711287</td>\n      <td>0.772140</td>\n      <td>69.421088</td>\n      <td>-11.334060</td>\n      <td>54.864231</td>\n      <td>-5.990235</td>\n    </tr>\n    <tr>\n      <th>2281</th>\n      <td>0.994691</td>\n      <td>0.928762</td>\n      <td>0.837785</td>\n      <td>0.910447</td>\n      <td>0.817958</td>\n      <td>0.979381</td>\n      <td>0.814606</td>\n      <td>0.347676</td>\n      <td>0.654219</td>\n      <td>0.410112</td>\n      <td>...</td>\n      <td>55552.552655</td>\n      <td>-2.971471</td>\n      <td>-0.347733</td>\n      <td>11.749841</td>\n      <td>86.936618</td>\n      <td>0.782993</td>\n      <td>69.498789</td>\n      <td>-10.914291</td>\n      <td>56.062090</td>\n      <td>-3.662677</td>\n    </tr>\n    <tr>\n      <th>2282</th>\n      <td>1.000000</td>\n      <td>0.907753</td>\n      <td>0.851577</td>\n      <td>0.766907</td>\n      <td>0.743920</td>\n      <td>0.958884</td>\n      <td>0.736537</td>\n      <td>0.355054</td>\n      <td>0.609536</td>\n      <td>0.335817</td>\n      <td>...</td>\n      <td>55536.022523</td>\n      <td>-2.811107</td>\n      <td>-0.351125</td>\n      <td>9.263472</td>\n      <td>29.150345</td>\n      <td>0.790361</td>\n      <td>67.177611</td>\n      <td>-10.587761</td>\n      <td>54.163491</td>\n      <td>-19.683310</td>\n    </tr>\n  </tbody>\n</table>\n<p>1518 rows × 106 columns</p>\n</div>"
     },
     "metadata": {},
     "output_type": "display_data"
    },
    {
     "name": "stdout",
     "output_type": "stream",
     "text": [
      "GENERATED_KAMAIndicator    0\n",
      "GENERATED_KAMAIndicator    0\n",
      "dtype: int64\n"
     ]
    }
   ],
   "source": [
    "ta_features = append_features(features, ta_features)\n",
    "ta_features = ta_features.tail(-400)\n",
    "stock_data = stock_data.tail(-400)\n",
    "preview = preview.tail(-400)\n",
    "print(ta_features.shape)\n",
    "display(ta_features)\n",
    "print(ta_features['GENERATED_KAMAIndicator'].isna().sum())"
   ],
   "metadata": {
    "collapsed": false,
    "ExecuteTime": {
     "end_time": "2024-04-22T12:26:41.848367Z",
     "start_time": "2024-04-22T12:26:41.798370Z"
    }
   },
   "id": "547fa06829dc2d59",
   "execution_count": 8
  }
 ],
 "metadata": {
  "kernelspec": {
   "display_name": "Python 3",
   "language": "python",
   "name": "python3"
  },
  "language_info": {
   "codemirror_mode": {
    "name": "ipython",
    "version": 2
   },
   "file_extension": ".py",
   "mimetype": "text/x-python",
   "name": "python",
   "nbconvert_exporter": "python",
   "pygments_lexer": "ipython2",
   "version": "2.7.6"
  }
 },
 "nbformat": 4,
 "nbformat_minor": 5
}
