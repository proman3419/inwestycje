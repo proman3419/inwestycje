{
 "cells": [
  {
   "cell_type": "code",
   "outputs": [],
   "source": [
    "from storage_utils import load_logbook, load_strategy, load_summary, load_logbook_df, load_strategy_df"
   ],
   "metadata": {
    "collapsed": false,
    "ExecuteTime": {
     "end_time": "2024-05-05T23:18:23.864060Z",
     "start_time": "2024-05-05T23:18:23.050067Z"
    }
   },
   "execution_count": null
  },
  {
   "cell_type": "code",
   "outputs": [],
   "source": [
    "load_summary('ea')"
   ],
   "metadata": {
    "collapsed": false,
    "ExecuteTime": {
     "end_time": "2024-05-05T23:18:23.928069Z",
     "start_time": "2024-05-05T23:18:23.867066Z"
    }
   },
   "execution_count": null
  },
  {
   "cell_type": "code",
   "outputs": [],
   "source": [
    "load_summary('cmaes')"
   ],
   "metadata": {
    "collapsed": false,
    "ExecuteTime": {
     "end_time": "2024-05-05T23:18:23.992071Z",
     "start_time": "2024-05-05T23:18:23.933067Z"
    }
   },
   "execution_count": null
  },
  {
   "cell_type": "code",
   "outputs": [],
   "source": [
    "DUMP_DIR_PATH = './storage/cmaes_2024-05-06_01-58-26-889867'\n",
    "INITIAL_MONEY = 1000\n",
    "COMMISSION = 0"
   ],
   "metadata": {
    "collapsed": false,
    "ExecuteTime": {
     "end_time": "2024-05-05T23:18:24.023065Z",
     "start_time": "2024-05-05T23:18:23.998070Z"
    }
   },
   "execution_count": null
  },
  {
   "cell_type": "code",
   "outputs": [],
   "source": [
    "load_logbook_df(DUMP_DIR_PATH)"
   ],
   "metadata": {
    "collapsed": false,
    "ExecuteTime": {
     "end_time": "2024-05-05T23:18:24.069065Z",
     "start_time": "2024-05-05T23:18:24.032071Z"
    }
   },
   "execution_count": null
  },
  {
   "cell_type": "code",
   "outputs": [],
   "source": [
    "from strategy_visualizer import plot_fitness_over_generations\n",
    "\n",
    "logbook = load_logbook(DUMP_DIR_PATH)\n",
    "plot_fitness_over_generations(logbook)"
   ],
   "metadata": {
    "collapsed": false,
    "ExecuteTime": {
     "end_time": "2024-05-05T23:18:28.123597Z",
     "start_time": "2024-05-05T23:18:24.073074Z"
    }
   },
   "execution_count": null
  },
  {
   "cell_type": "code",
   "outputs": [],
   "source": [
    "load_strategy_df(DUMP_DIR_PATH)"
   ],
   "metadata": {
    "collapsed": false,
    "ExecuteTime": {
     "end_time": "2024-05-05T23:18:28.154605Z",
     "start_time": "2024-05-05T23:18:28.127596Z"
    }
   },
   "execution_count": null
  },
  {
   "cell_type": "code",
   "outputs": [],
   "source": [
    "from preprocessing import preprocess_data\n",
    "from strategy_visualizer import plot_strategy, simulate_strategy\n",
    "\n",
    "strategy = load_strategy(DUMP_DIR_PATH)\n",
    "stock_data, ta_features, _ = preprocess_data(\"./data/wig_d.csv\")\n",
    "\n",
    "dates, close_prices, x_buy, y_buy, x_sell, y_sell, sum_money_and_money_in_shares = simulate_strategy(\n",
    "    stock_data,\n",
    "    ta_features,\n",
    "    strategy,\n",
    "    INITIAL_MONEY,\n",
    "    COMMISSION,\n",
    ")\n",
    "plot_strategy(dates, close_prices, x_buy, y_buy, x_sell, y_sell, sum_money_and_money_in_shares)"
   ],
   "metadata": {
    "collapsed": false,
    "ExecuteTime": {
     "end_time": "2024-05-05T23:18:37.183593Z",
     "start_time": "2024-05-05T23:18:28.158589Z"
    }
   },
   "execution_count": null
  },
  {
   "cell_type": "code",
   "execution_count": null,
   "outputs": [],
   "source": [],
   "metadata": {
    "collapsed": false
   }
  }
 ],
 "metadata": {
  "kernelspec": {
   "display_name": "Python 3",
   "language": "python",
   "name": "python3"
  },
  "language_info": {
   "codemirror_mode": {
    "name": "ipython",
    "version": 2
   },
   "file_extension": ".py",
   "mimetype": "text/x-python",
   "name": "python",
   "nbconvert_exporter": "python",
   "pygments_lexer": "ipython2",
   "version": "2.7.6"
  }
 },
 "nbformat": 4,
 "nbformat_minor": 0
}
