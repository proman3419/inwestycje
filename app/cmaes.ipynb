{
 "cells": [
  {
   "cell_type": "code",
   "execution_count": null,
   "metadata": {
    "collapsed": true
   },
   "outputs": [],
   "source": [
    "import numpy as np\n",
    "import pandas as pd\n",
    "from deap import algorithms\n",
    "\n",
    "from preprocessing import preprocess_data\n",
    "from setup import setup_cmaes\n",
    "from strategy_visualizer import print_strategy, plot_strategy, simulate_strategy, simulate_best_possible_strategy, plot_fitness_over_generations"
   ]
  },
  {
   "cell_type": "code",
   "execution_count": null,
   "outputs": [],
   "source": [
    "stock_data, ta_features, _ = preprocess_data(\"./data/wig_d.csv\")\n",
    "ta_features"
   ],
   "metadata": {
    "collapsed": false
   }
  },
  {
   "cell_type": "code",
   "execution_count": null,
   "outputs": [],
   "source": [
    "# CMAES algorithm parameters:\n",
    "POPULATION_SIZE = 100\n",
    "N_GENERATIONS = 100\n",
    "\n",
    "# Simulation parameters:\n",
    "INITIAL_MONEY = 1000\n",
    "# COMMISSION = 0.0001 # 0.01%\n",
    "COMMISSION = 0"
   ],
   "metadata": {
    "collapsed": false
   }
  },
  {
   "cell_type": "code",
   "execution_count": null,
   "outputs": [],
   "source": [
    "population, toolbox, stats, hall_of_fame = setup_cmaes(\n",
    "    stock_data,\n",
    "    ta_features,\n",
    "    POPULATION_SIZE,\n",
    "    INITIAL_MONEY,\n",
    "    COMMISSION,\n",
    ")"
   ],
   "metadata": {
    "collapsed": false
   }
  },
  {
   "cell_type": "code",
   "execution_count": null,
   "outputs": [],
   "source": [
    "final_population, logbook = algorithms.eaGenerateUpdate(\n",
    "    population,\n",
    "    toolbox,\n",
    "    stats=stats,\n",
    "    halloffame=hall_of_fame,\n",
    "    verbose=True,\n",
    ")"
   ],
   "metadata": {
    "collapsed": false
   }
  },
  {
   "cell_type": "code",
   "execution_count": null,
   "outputs": [],
   "source": [
    "plot_fitness_over_generations(logbook)"
   ],
   "metadata": {
    "collapsed": false
   }
  },
  {
   "cell_type": "code",
   "execution_count": null,
   "outputs": [],
   "source": [
    "best_strategy = hall_of_fame[0]\n",
    "buy_strategy, sell_strategy = np.array_split(best_strategy, 2)\n",
    "pd.DataFrame(\n",
    "    zip(ta_features.columns, buy_strategy, sell_strategy),\n",
    "    columns=[\"feature\", \"buy strategy weight\", \"sell strategy weight\"],\n",
    ")"
   ],
   "metadata": {
    "collapsed": false
   }
  },
  {
   "cell_type": "code",
   "execution_count": null,
   "outputs": [],
   "source": [
    "print_strategy(stock_data, ta_features, best_strategy, INITIAL_MONEY, COMMISSION)"
   ],
   "metadata": {
    "collapsed": false
   }
  },
  {
   "cell_type": "code",
   "execution_count": null,
   "outputs": [],
   "source": [
    "dates, close_prices, x_buy, y_buy, x_sell, y_sell, sum_money_and_money_in_shares = simulate_strategy(\n",
    "    stock_data,\n",
    "    ta_features,\n",
    "    best_strategy,\n",
    "    INITIAL_MONEY,\n",
    "    COMMISSION,\n",
    ")\n",
    "plot_strategy(dates, close_prices, x_buy, y_buy, x_sell, y_sell, sum_money_and_money_in_shares)"
   ],
   "metadata": {
    "collapsed": false
   }
  }
 ],
 "metadata": {
  "kernelspec": {
   "display_name": "Python 3",
   "language": "python",
   "name": "python3"
  },
  "language_info": {
   "codemirror_mode": {
    "name": "ipython",
    "version": 2
   },
   "file_extension": ".py",
   "mimetype": "text/x-python",
   "name": "python",
   "nbconvert_exporter": "python",
   "pygments_lexer": "ipython2",
   "version": "2.7.6"
  }
 },
 "nbformat": 4,
 "nbformat_minor": 0
}
