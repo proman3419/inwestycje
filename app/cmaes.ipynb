{
 "cells": [
  {
   "cell_type": "code",
   "execution_count": null,
   "metadata": {
    "collapsed": true
   },
   "outputs": [],
   "source": [
    "from preprocessing import preprocess_data\n",
    "from setup import setup_cmaes, eaGenerateUpdateWithRestartsAndFileDump"
   ]
  },
  {
   "cell_type": "code",
   "execution_count": null,
   "outputs": [],
   "source": [
    "stock_data, ta_features, _ = preprocess_data(\"./data/wig_d.csv\")\n",
    "ta_features"
   ],
   "metadata": {
    "collapsed": false
   }
  },
  {
   "cell_type": "code",
   "execution_count": null,
   "outputs": [],
   "source": [
    "# CMAES algorithm parameters:\n",
    "LAMBDA = 50\n",
    "\n",
    "# Simulation parameters:\n",
    "N_RESTARTS = 1000\n",
    "MAX_N_GENERATIONS = 2000\n",
    "INITIAL_MONEY = 1000\n",
    "COMMISSION = 0 # 0.0001 # 0.01%"
   ],
   "metadata": {
    "collapsed": false
   }
  },
  {
   "cell_type": "code",
   "execution_count": null,
   "outputs": [],
   "source": [
    "toolbox, stats, hall_of_fame = setup_cmaes(\n",
    "    stock_data,\n",
    "    ta_features,\n",
    "    LAMBDA,\n",
    "    INITIAL_MONEY,\n",
    "    COMMISSION,\n",
    ")"
   ],
   "metadata": {
    "collapsed": false
   }
  },
  {
   "cell_type": "code",
   "execution_count": null,
   "outputs": [],
   "source": [
    "eaGenerateUpdateWithRestartsAndFileDump(\n",
    "    toolbox=toolbox,\n",
    "    nrestarts=N_RESTARTS,\n",
    "    maxngens=MAX_N_GENERATIONS,\n",
    "    stats=stats,\n",
    "    halloffame=hall_of_fame,\n",
    "    p={\"initial_money\": INITIAL_MONEY, \"commision\": COMMISSION},\n",
    "    verbose=True,\n",
    ")"
   ],
   "metadata": {
    "collapsed": false
   }
  },
  {
   "cell_type": "code",
   "execution_count": null,
   "outputs": [],
   "source": [],
   "metadata": {
    "collapsed": false
   }
  }
 ],
 "metadata": {
  "kernelspec": {
   "display_name": "Python 3",
   "language": "python",
   "name": "python3"
  },
  "language_info": {
   "codemirror_mode": {
    "name": "ipython",
    "version": 2
   },
   "file_extension": ".py",
   "mimetype": "text/x-python",
   "name": "python",
   "nbconvert_exporter": "python",
   "pygments_lexer": "ipython2",
   "version": "2.7.6"
  }
 },
 "nbformat": 4,
 "nbformat_minor": 0
}
