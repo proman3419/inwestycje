{
 "cells": [
  {
   "cell_type": "code",
   "execution_count": 1,
   "metadata": {
    "collapsed": true,
    "ExecuteTime": {
     "end_time": "2024-05-04T15:37:49.379394Z",
     "start_time": "2024-05-04T15:37:49.160516Z"
    }
   },
   "outputs": [],
   "source": [
    "import numpy as np\n",
    "import pandas as pd\n",
    "from deap import algorithms\n",
    "import multiprocessing\n",
    "\n",
    "from preprocessing import preprocess_data\n",
    "from ga_setup import setup_ga\n",
    "from strategy_visualizer import print_strategy, plot_strategy, simulate_strategy, simulate_best_possible_strategy"
   ]
  },
  {
   "cell_type": "code",
   "execution_count": 2,
   "outputs": [
    {
     "data": {
      "text/plain": "      volume_adi  volume_obv  volume_cmf  volume_fi  volume_em  volume_sma_em  \\\n365     0.006009    0.094874    0.941641   0.800880   0.820727       0.901769   \n366     0.010085    0.067148    0.908381   0.790832   0.819671       0.900598   \n367     0.030662    0.093509    0.968945   0.836003   0.821472       0.900718   \n368     0.021698    0.128281    0.921666   0.831179   0.821483       0.899950   \n369     0.014627    0.103969    0.872146   0.805248   0.817366       0.900179   \n...          ...         ...         ...        ...        ...            ...   \n2278    0.976102    0.938315    0.783798   0.993424   0.871783       0.991989   \n2279    0.981290    0.923087    0.820142   0.955853   0.829428       0.982671   \n2280    0.981810    0.906549    0.779111   0.914818   0.819299       0.980124   \n2281    0.994691    0.928762    0.837785   0.910447   0.817958       0.979381   \n2282    1.000000    0.907753    0.851577   0.766907   0.743920       0.958884   \n\n      volume_vpt  volume_vwap  volume_mfi  volume_nvi  ...  momentum_roc  \\\n365     0.615958     0.136714    0.459783    0.341002  ...      0.714163   \n366     0.613798     0.138438    0.493822    0.341002  ...      0.714442   \n367     0.652594     0.140952    0.516197    0.369727  ...      0.733597   \n368     0.658175     0.144114    0.555109    0.369727  ...      0.682954   \n369     0.647337     0.146147    0.526596    0.360938  ...      0.685832   \n...          ...          ...         ...         ...  ...           ...   \n2278    0.811603     0.312019    0.649625    0.412539  ...      0.921568   \n2279    0.809756     0.323694    0.666461    0.410112  ...      0.931230   \n2280    0.802191     0.335261    0.582716    0.410112  ...      0.931895   \n2281    0.814606     0.347676    0.654219    0.410112  ...      0.915056   \n2282    0.736537     0.355054    0.609536    0.335817  ...      0.779609   \n\n      momentum_ppo  momentum_ppo_signal  momentum_ppo_hist  momentum_pvo  \\\n365       0.847761             0.883304           0.550882      0.754635   \n366       0.843452             0.880940           0.545478      0.774311   \n367       0.845106             0.879435           0.552450      0.775482   \n368       0.845887             0.878413           0.556376      0.820520   \n369       0.843416             0.877019           0.553355      0.788863   \n...            ...                  ...                ...           ...   \n2278      0.966601             0.937050           0.723119      0.714089   \n2279      0.984643             0.956861           0.725604      0.695299   \n2280      0.993649             0.974810           0.710479      0.690118   \n2281      1.000000             0.990651           0.693349      0.733067   \n2282      0.985750             1.000000           0.640622      0.749816   \n\n      momentum_pvo_signal  momentum_pvo_hist  momentum_kama  others_dr  \\\n365              0.800912           0.454282       0.095323   0.723399   \n366              0.824712           0.455591       0.095391   0.682926   \n367              0.844046           0.431166       0.095770   0.740789   \n368              0.870848           0.472013       0.096149   0.691829   \n369              0.884323           0.399113       0.096263   0.669190   \n...                   ...                ...            ...        ...   \n2278             0.754736           0.447659       0.349639   0.825358   \n2279             0.767887           0.397341       0.371642   0.681307   \n2280             0.777104           0.375822       0.379975   0.668755   \n2281             0.795286           0.424862       0.388276   0.706705   \n2282             0.814046           0.428027       0.384853   0.547085   \n\n      others_cr  \n365    0.217329  \n366    0.216556  \n367    0.231158  \n368    0.232766  \n369    0.228294  \n...         ...  \n2278   0.471939  \n2279   0.470523  \n2280   0.465184  \n2281   0.471686  \n2282   0.428287  \n\n[1918 rows x 77 columns]",
      "text/html": "<div>\n<style scoped>\n    .dataframe tbody tr th:only-of-type {\n        vertical-align: middle;\n    }\n\n    .dataframe tbody tr th {\n        vertical-align: top;\n    }\n\n    .dataframe thead th {\n        text-align: right;\n    }\n</style>\n<table border=\"1\" class=\"dataframe\">\n  <thead>\n    <tr style=\"text-align: right;\">\n      <th></th>\n      <th>volume_adi</th>\n      <th>volume_obv</th>\n      <th>volume_cmf</th>\n      <th>volume_fi</th>\n      <th>volume_em</th>\n      <th>volume_sma_em</th>\n      <th>volume_vpt</th>\n      <th>volume_vwap</th>\n      <th>volume_mfi</th>\n      <th>volume_nvi</th>\n      <th>...</th>\n      <th>momentum_roc</th>\n      <th>momentum_ppo</th>\n      <th>momentum_ppo_signal</th>\n      <th>momentum_ppo_hist</th>\n      <th>momentum_pvo</th>\n      <th>momentum_pvo_signal</th>\n      <th>momentum_pvo_hist</th>\n      <th>momentum_kama</th>\n      <th>others_dr</th>\n      <th>others_cr</th>\n    </tr>\n  </thead>\n  <tbody>\n    <tr>\n      <th>365</th>\n      <td>0.006009</td>\n      <td>0.094874</td>\n      <td>0.941641</td>\n      <td>0.800880</td>\n      <td>0.820727</td>\n      <td>0.901769</td>\n      <td>0.615958</td>\n      <td>0.136714</td>\n      <td>0.459783</td>\n      <td>0.341002</td>\n      <td>...</td>\n      <td>0.714163</td>\n      <td>0.847761</td>\n      <td>0.883304</td>\n      <td>0.550882</td>\n      <td>0.754635</td>\n      <td>0.800912</td>\n      <td>0.454282</td>\n      <td>0.095323</td>\n      <td>0.723399</td>\n      <td>0.217329</td>\n    </tr>\n    <tr>\n      <th>366</th>\n      <td>0.010085</td>\n      <td>0.067148</td>\n      <td>0.908381</td>\n      <td>0.790832</td>\n      <td>0.819671</td>\n      <td>0.900598</td>\n      <td>0.613798</td>\n      <td>0.138438</td>\n      <td>0.493822</td>\n      <td>0.341002</td>\n      <td>...</td>\n      <td>0.714442</td>\n      <td>0.843452</td>\n      <td>0.880940</td>\n      <td>0.545478</td>\n      <td>0.774311</td>\n      <td>0.824712</td>\n      <td>0.455591</td>\n      <td>0.095391</td>\n      <td>0.682926</td>\n      <td>0.216556</td>\n    </tr>\n    <tr>\n      <th>367</th>\n      <td>0.030662</td>\n      <td>0.093509</td>\n      <td>0.968945</td>\n      <td>0.836003</td>\n      <td>0.821472</td>\n      <td>0.900718</td>\n      <td>0.652594</td>\n      <td>0.140952</td>\n      <td>0.516197</td>\n      <td>0.369727</td>\n      <td>...</td>\n      <td>0.733597</td>\n      <td>0.845106</td>\n      <td>0.879435</td>\n      <td>0.552450</td>\n      <td>0.775482</td>\n      <td>0.844046</td>\n      <td>0.431166</td>\n      <td>0.095770</td>\n      <td>0.740789</td>\n      <td>0.231158</td>\n    </tr>\n    <tr>\n      <th>368</th>\n      <td>0.021698</td>\n      <td>0.128281</td>\n      <td>0.921666</td>\n      <td>0.831179</td>\n      <td>0.821483</td>\n      <td>0.899950</td>\n      <td>0.658175</td>\n      <td>0.144114</td>\n      <td>0.555109</td>\n      <td>0.369727</td>\n      <td>...</td>\n      <td>0.682954</td>\n      <td>0.845887</td>\n      <td>0.878413</td>\n      <td>0.556376</td>\n      <td>0.820520</td>\n      <td>0.870848</td>\n      <td>0.472013</td>\n      <td>0.096149</td>\n      <td>0.691829</td>\n      <td>0.232766</td>\n    </tr>\n    <tr>\n      <th>369</th>\n      <td>0.014627</td>\n      <td>0.103969</td>\n      <td>0.872146</td>\n      <td>0.805248</td>\n      <td>0.817366</td>\n      <td>0.900179</td>\n      <td>0.647337</td>\n      <td>0.146147</td>\n      <td>0.526596</td>\n      <td>0.360938</td>\n      <td>...</td>\n      <td>0.685832</td>\n      <td>0.843416</td>\n      <td>0.877019</td>\n      <td>0.553355</td>\n      <td>0.788863</td>\n      <td>0.884323</td>\n      <td>0.399113</td>\n      <td>0.096263</td>\n      <td>0.669190</td>\n      <td>0.228294</td>\n    </tr>\n    <tr>\n      <th>...</th>\n      <td>...</td>\n      <td>...</td>\n      <td>...</td>\n      <td>...</td>\n      <td>...</td>\n      <td>...</td>\n      <td>...</td>\n      <td>...</td>\n      <td>...</td>\n      <td>...</td>\n      <td>...</td>\n      <td>...</td>\n      <td>...</td>\n      <td>...</td>\n      <td>...</td>\n      <td>...</td>\n      <td>...</td>\n      <td>...</td>\n      <td>...</td>\n      <td>...</td>\n      <td>...</td>\n    </tr>\n    <tr>\n      <th>2278</th>\n      <td>0.976102</td>\n      <td>0.938315</td>\n      <td>0.783798</td>\n      <td>0.993424</td>\n      <td>0.871783</td>\n      <td>0.991989</td>\n      <td>0.811603</td>\n      <td>0.312019</td>\n      <td>0.649625</td>\n      <td>0.412539</td>\n      <td>...</td>\n      <td>0.921568</td>\n      <td>0.966601</td>\n      <td>0.937050</td>\n      <td>0.723119</td>\n      <td>0.714089</td>\n      <td>0.754736</td>\n      <td>0.447659</td>\n      <td>0.349639</td>\n      <td>0.825358</td>\n      <td>0.471939</td>\n    </tr>\n    <tr>\n      <th>2279</th>\n      <td>0.981290</td>\n      <td>0.923087</td>\n      <td>0.820142</td>\n      <td>0.955853</td>\n      <td>0.829428</td>\n      <td>0.982671</td>\n      <td>0.809756</td>\n      <td>0.323694</td>\n      <td>0.666461</td>\n      <td>0.410112</td>\n      <td>...</td>\n      <td>0.931230</td>\n      <td>0.984643</td>\n      <td>0.956861</td>\n      <td>0.725604</td>\n      <td>0.695299</td>\n      <td>0.767887</td>\n      <td>0.397341</td>\n      <td>0.371642</td>\n      <td>0.681307</td>\n      <td>0.470523</td>\n    </tr>\n    <tr>\n      <th>2280</th>\n      <td>0.981810</td>\n      <td>0.906549</td>\n      <td>0.779111</td>\n      <td>0.914818</td>\n      <td>0.819299</td>\n      <td>0.980124</td>\n      <td>0.802191</td>\n      <td>0.335261</td>\n      <td>0.582716</td>\n      <td>0.410112</td>\n      <td>...</td>\n      <td>0.931895</td>\n      <td>0.993649</td>\n      <td>0.974810</td>\n      <td>0.710479</td>\n      <td>0.690118</td>\n      <td>0.777104</td>\n      <td>0.375822</td>\n      <td>0.379975</td>\n      <td>0.668755</td>\n      <td>0.465184</td>\n    </tr>\n    <tr>\n      <th>2281</th>\n      <td>0.994691</td>\n      <td>0.928762</td>\n      <td>0.837785</td>\n      <td>0.910447</td>\n      <td>0.817958</td>\n      <td>0.979381</td>\n      <td>0.814606</td>\n      <td>0.347676</td>\n      <td>0.654219</td>\n      <td>0.410112</td>\n      <td>...</td>\n      <td>0.915056</td>\n      <td>1.000000</td>\n      <td>0.990651</td>\n      <td>0.693349</td>\n      <td>0.733067</td>\n      <td>0.795286</td>\n      <td>0.424862</td>\n      <td>0.388276</td>\n      <td>0.706705</td>\n      <td>0.471686</td>\n    </tr>\n    <tr>\n      <th>2282</th>\n      <td>1.000000</td>\n      <td>0.907753</td>\n      <td>0.851577</td>\n      <td>0.766907</td>\n      <td>0.743920</td>\n      <td>0.958884</td>\n      <td>0.736537</td>\n      <td>0.355054</td>\n      <td>0.609536</td>\n      <td>0.335817</td>\n      <td>...</td>\n      <td>0.779609</td>\n      <td>0.985750</td>\n      <td>1.000000</td>\n      <td>0.640622</td>\n      <td>0.749816</td>\n      <td>0.814046</td>\n      <td>0.428027</td>\n      <td>0.384853</td>\n      <td>0.547085</td>\n      <td>0.428287</td>\n    </tr>\n  </tbody>\n</table>\n<p>1918 rows × 77 columns</p>\n</div>"
     },
     "execution_count": 2,
     "metadata": {},
     "output_type": "execute_result"
    }
   ],
   "source": [
    "stock_data, ta_features, _ = preprocess_data(\"./data/wig_d.csv\")\n",
    "ta_features"
   ],
   "metadata": {
    "collapsed": false,
    "ExecuteTime": {
     "end_time": "2024-05-04T15:37:50.531999Z",
     "start_time": "2024-05-04T15:37:49.381367Z"
    }
   }
  },
  {
   "cell_type": "code",
   "execution_count": 3,
   "outputs": [],
   "source": [
    "# Genetic algorithm parameters:\n",
    "POPULATION_SIZE = 100\n",
    "N_GENERATIONS = 500\n",
    "TOURNAMENT_SIZE_POPULATION_RATIO = 0.1\n",
    "CROSSOVER_PROBABILITY = 0.5\n",
    "MUTATION_PROBABILITY = 0.2\n",
    "\n",
    "# Simulation parameters:\n",
    "INITIAL_MONEY = 1000\n",
    "# COMMISSION = 0.0001 # 0.01%\n",
    "COMMISSION = 0"
   ],
   "metadata": {
    "collapsed": false,
    "ExecuteTime": {
     "end_time": "2024-05-04T15:37:50.547130Z",
     "start_time": "2024-05-04T15:37:50.537008Z"
    }
   }
  },
  {
   "cell_type": "code",
   "execution_count": 4,
   "outputs": [],
   "source": [
    "population, toolbox, stats, hall_of_fame = setup_ga(\n",
    "    stock_data,\n",
    "    ta_features,\n",
    "    POPULATION_SIZE,\n",
    "    TOURNAMENT_SIZE_POPULATION_RATIO,\n",
    "    INITIAL_MONEY,\n",
    "    COMMISSION,\n",
    ")\n",
    "pool = multiprocessing.Pool()\n",
    "toolbox.register(\"map\", pool.map)"
   ],
   "metadata": {
    "collapsed": false,
    "ExecuteTime": {
     "end_time": "2024-05-04T15:37:50.689622Z",
     "start_time": "2024-05-04T15:37:50.549133Z"
    }
   }
  },
  {
   "cell_type": "code",
   "execution_count": 5,
   "outputs": [
    {
     "name": "stdout",
     "output_type": "stream",
     "text": [
      "gen\tnevals\tavg            \tstd           \tmin           \tmax            \n",
      "0  \t100   \t[1070.21626021]\t[193.09051421]\t[614.34236688]\t[1745.58108654]\n",
      "1  \t51    \t[1277.58443331]\t[260.126686]  \t[684.54578143]\t[1923.68627802]\n",
      "2  \t58    \t[1535.90709414]\t[309.9176792] \t[792.25356542]\t[1923.68627802]\n",
      "3  \t64    \t[1616.75676583]\t[328.12379656]\t[964.8356754] \t[1971.94168858]\n",
      "4  \t52    \t[1706.24421779]\t[327.63704413]\t[862.18356613]\t[1971.94168858]\n",
      "5  \t67    \t[1694.77793046]\t[331.19407792]\t[925.26638191]\t[2018.43032777]\n",
      "6  \t62    \t[1902.72699797]\t[154.553314]  \t[1144.82559205]\t[2030.2444061] \n",
      "7  \t80    \t[1936.19270147]\t[141.99773927]\t[1230.59748366]\t[2047.66176603]\n",
      "8  \t59    \t[1995.37708383]\t[64.14916758] \t[1707.02182616]\t[2190.23842462]\n",
      "9  \t64    \t[2013.99000966]\t[118.19929896]\t[1441.4512708] \t[2190.23842462]\n",
      "10 \t64    \t[2061.39798822]\t[154.90598113]\t[1474.61168398]\t[2190.23842462]\n",
      "11 \t49    \t[2131.14498577]\t[128.08759479]\t[1581.31636791]\t[2190.23842462]\n",
      "12 \t69    \t[2110.85972862]\t[192.64615292]\t[1280.94562022]\t[2190.23842462]\n",
      "13 \t60    \t[2145.94522741]\t[109.0460082] \t[1569.81355514]\t[2194.36608453]\n",
      "14 \t55    \t[2146.62964134]\t[124.33960778]\t[1466.29682751]\t[2194.36608453]\n",
      "15 \t64    \t[2115.81008628]\t[152.7079334] \t[1406.70631768]\t[2194.36608453]\n",
      "16 \t66    \t[2112.86491669]\t[182.15995205]\t[1508.22918966]\t[2232.6595216] \n",
      "17 \t59    \t[2165.52508079]\t[101.50219701]\t[1567.98210895]\t[2232.6595216] \n",
      "18 \t81    \t[2093.23500122]\t[261.82814851]\t[1055.029867]  \t[2283.66539564]\n",
      "19 \t46    \t[2147.29454944]\t[235.83680197]\t[1163.62109509]\t[2283.66539564]\n",
      "20 \t63    \t[2122.46211667]\t[298.17863252]\t[1011.25794867]\t[2283.66539564]\n",
      "21 \t59    \t[2139.88827806]\t[290.41335597]\t[1174.75022368]\t[2283.66539564]\n",
      "22 \t66    \t[2145.42997397]\t[303.80899002]\t[1199.94571781]\t[2283.66539564]\n",
      "23 \t56    \t[2171.21803796]\t[283.24905687]\t[1033.49462267]\t[2283.66539564]\n",
      "24 \t62    \t[2188.8049508] \t[253.2775265] \t[1305.87131984]\t[2283.66539564]\n",
      "25 \t59    \t[2197.26601614]\t[214.13198229]\t[1156.36163996]\t[2283.66539564]\n",
      "26 \t62    \t[2169.01644428]\t[239.25048475]\t[1258.76872609]\t[2283.66539564]\n",
      "27 \t56    \t[2162.3864274] \t[268.24582332]\t[1305.8377774] \t[2283.66539564]\n",
      "28 \t52    \t[2194.67611224]\t[230.49982259]\t[1262.12381705]\t[2283.66539564]\n",
      "29 \t55    \t[2184.3555955] \t[253.25075184]\t[1070.6196697] \t[2283.66539564]\n",
      "30 \t60    \t[2185.79562358]\t[252.44133929]\t[1220.92732414]\t[2283.66539564]\n",
      "31 \t70    \t[2148.7531432] \t[284.00409381]\t[1257.87743169]\t[2283.66539564]\n",
      "32 \t58    \t[2166.41695102]\t[276.90146459]\t[1150.05217615]\t[2283.66539564]\n",
      "33 \t57    \t[2150.63764899]\t[279.11977847]\t[1185.61158636]\t[2283.66539564]\n",
      "34 \t60    \t[2195.22629511]\t[227.94128203]\t[1326.25330592]\t[2283.66539564]\n",
      "35 \t65    \t[2186.5793246] \t[242.5426056] \t[1297.6273888] \t[2283.66539564]\n",
      "36 \t59    \t[2212.63750814]\t[221.13450724]\t[1162.59230189]\t[2283.66539564]\n",
      "37 \t61    \t[2144.90662048]\t[289.6774906] \t[1145.56136763]\t[2283.66539564]\n",
      "38 \t55    \t[2189.48642581]\t[236.10460679]\t[1155.45935424]\t[2283.66539564]\n",
      "39 \t62    \t[2139.74302046]\t[296.95488007]\t[1199.27273535]\t[2283.66539564]\n",
      "40 \t59    \t[2187.79515192]\t[251.08592502]\t[1285.60341609]\t[2283.66539564]\n"
     ]
    },
    {
     "name": "stderr",
     "output_type": "stream",
     "text": [
      "\n",
      "KeyboardInterrupt\n",
      "\n"
     ]
    }
   ],
   "source": [
    "final_population = algorithms.eaSimple(\n",
    "    population,\n",
    "    toolbox,\n",
    "    ngen=N_GENERATIONS,\n",
    "    cxpb=CROSSOVER_PROBABILITY,\n",
    "    mutpb=MUTATION_PROBABILITY,\n",
    "    stats=stats,\n",
    "    halloffame=hall_of_fame,\n",
    "    verbose=True,\n",
    ")"
   ],
   "metadata": {
    "collapsed": false,
    "ExecuteTime": {
     "end_time": "2024-05-04T15:38:43.488651Z",
     "start_time": "2024-05-04T15:37:50.696624Z"
    }
   }
  },
  {
   "cell_type": "code",
   "execution_count": null,
   "outputs": [],
   "source": [
    "best_strategy = hall_of_fame[0]\n",
    "buy_strategy, sell_strategy = np.array_split(best_strategy, 2)\n",
    "pd.DataFrame(\n",
    "    zip(ta_features.columns, buy_strategy, sell_strategy),\n",
    "    columns=[\"feature\", \"buy strategy weight\", \"sell strategy weight\"],\n",
    ")"
   ],
   "metadata": {
    "collapsed": false,
    "ExecuteTime": {
     "end_time": "2024-05-04T15:38:43.490793Z",
     "start_time": "2024-05-04T15:38:43.490793Z"
    }
   }
  },
  {
   "cell_type": "code",
   "execution_count": null,
   "outputs": [],
   "source": [
    "print_strategy(stock_data, ta_features, best_strategy, INITIAL_MONEY, COMMISSION)"
   ],
   "metadata": {
    "collapsed": false
   }
  },
  {
   "cell_type": "code",
   "execution_count": null,
   "outputs": [],
   "source": [
    "dates, close_prices, x_buy, y_buy, x_sell, y_sell, sum_money_and_money_in_shares = simulate_strategy(\n",
    "    stock_data,\n",
    "    ta_features,\n",
    "    best_strategy,\n",
    "    INITIAL_MONEY,\n",
    "    COMMISSION,\n",
    ")\n",
    "plot_strategy(dates, close_prices, x_buy, y_buy, x_sell, y_sell, sum_money_and_money_in_shares)\n",
    "best_strategy_final_money = sum_money_and_money_in_shares[-1]"
   ],
   "metadata": {
    "collapsed": false,
    "ExecuteTime": {
     "start_time": "2024-05-04T15:38:43.495082Z"
    }
   }
  },
  {
   "cell_type": "code",
   "outputs": [],
   "source": [
    "dates, close_prices, x_buy, y_buy, x_sell, y_sell, sum_money_and_money_in_shares = simulate_best_possible_strategy(\n",
    "    stock_data\n",
    ")\n",
    "plot_strategy(dates, close_prices, x_buy, y_buy, x_sell, y_sell, sum_money_and_money_in_shares)\n",
    "best_possible_strategy_final_money = sum_money_and_money_in_shares[-1]"
   ],
   "metadata": {
    "collapsed": false,
    "ExecuteTime": {
     "start_time": "2024-05-04T15:38:43.497408Z"
    }
   },
   "execution_count": null
  },
  {
   "cell_type": "code",
   "outputs": [],
   "source": [
    "print(f'{best_strategy_final_money / best_possible_strategy_final_money * 100}%')"
   ],
   "metadata": {
    "collapsed": false,
    "ExecuteTime": {
     "start_time": "2024-05-04T15:38:43.499687Z"
    }
   },
   "execution_count": null
  }
 ],
 "metadata": {
  "kernelspec": {
   "display_name": "Python 3",
   "language": "python",
   "name": "python3"
  },
  "language_info": {
   "codemirror_mode": {
    "name": "ipython",
    "version": 2
   },
   "file_extension": ".py",
   "mimetype": "text/x-python",
   "name": "python",
   "nbconvert_exporter": "python",
   "pygments_lexer": "ipython2",
   "version": "2.7.6"
  }
 },
 "nbformat": 4,
 "nbformat_minor": 0
}
