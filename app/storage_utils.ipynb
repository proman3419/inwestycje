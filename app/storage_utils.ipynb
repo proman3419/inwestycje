{
 "cells": [
  {
   "cell_type": "code",
   "outputs": [],
   "source": [
    "from storage_utils import init_dump_dir, print_file, save_features, save_logbook, load_logbook, load_strategy, load_logbook_df"
   ],
   "metadata": {
    "collapsed": false,
    "ExecuteTime": {
     "end_time": "2024-05-05T21:48:02.660561Z",
     "start_time": "2024-05-05T21:48:02.647591Z"
    }
   },
   "id": "aa4acac3f7d729e8",
   "execution_count": 9
  },
  {
   "cell_type": "code",
   "execution_count": 10,
   "id": "initial_id",
   "metadata": {
    "collapsed": true,
    "ExecuteTime": {
     "end_time": "2024-05-05T21:48:02.692558Z",
     "start_time": "2024-05-05T21:48:02.675559Z"
    }
   },
   "outputs": [
    {
     "name": "stdout",
     "output_type": "stream",
     "text": [
      "./storage/ea_2024-05-05_23-48-02\n"
     ]
    }
   ],
   "source": [
    "DUMP_DIR_PATH = init_dump_dir('ea')\n",
    "print(DUMP_DIR_PATH)"
   ]
  },
  {
   "cell_type": "code",
   "outputs": [
    {
     "name": "stdout",
     "output_type": "stream",
     "text": [
      ",feature,buy strategy weight,sell strategy weight\n",
      "0,volume_adi,-0.475509,0.248125\n",
      "1,volume_obv,-0.392122,0.629348\n",
      "2,volume_cmf,-0.700548,0.31686\n",
      "3,volume_fi,-0.310061,-0.357925\n",
      "4,volume_em,0.444589,0.196076\n",
      "5,volume_sma_em,0.897539,-0.775987\n",
      "6,volume_vpt,-0.028066,0.261943\n",
      "7,volume_vwap,-0.066981,0.029219\n",
      "8,volume_mfi,0.507734,-0.598308\n",
      "9,volume_nvi,0.850479,-0.241019\n",
      "10,volatility_bbm,-0.314184,0.334498\n",
      "11,volatility_bbh,0.553802,-0.462089\n",
      "12,volatility_bbl,-0.627791,-0.555173\n",
      "13,volatility_bbw,0.511722,0.38326\n",
      "14,volatility_bbp,-0.617424,0.21447\n",
      "15,volatility_bbhi,-0.912522,-0.074703\n",
      "16,volatility_bbli,-0.0531,-0.500613\n",
      "17,volatility_kcc,-0.872027,0.457202\n",
      "18,volatility_kcw,0.520537,-0.68368\n",
      "19,volatility_kcp,0.739222,0.656126\n",
      "20,volatility_kchi,0.919507,-0.406013\n",
      "21,volatility_kcli,-0.582154,-0.197401\n",
      "22,volatility_dcl,0.710688,-0.715471\n",
      "23,volatility_dch,0.607972,0.717455\n",
      "24,volatility_dcm,-0.460623,0.461649\n",
      "25,volatility_dcw,0.902175,-0.836048\n",
      "26,volatility_dcp,0.969965,0.350709\n",
      "27,volatility_atr,0.959112,0.751437\n",
      "28,volatility_ui,0.055574,-0.833787\n",
      "29,trend_macd,-0.900608,-0.412265\n",
      "30,trend_macd_signal,-0.371651,-0.057953\n",
      "31,trend_macd_diff,-0.834561,0.342187\n",
      "32,trend_sma_slow,0.376117,0.066143\n",
      "33,trend_ema_slow,-0.954457,0.103556\n",
      "34,trend_vortex_ind_pos,0.111242,-0.710974\n",
      "35,trend_vortex_ind_neg,-0.480973,0.126699\n",
      "36,trend_vortex_ind_diff,-0.733053,0.228129\n",
      "37,trend_trix,0.01722,-0.676482\n",
      "38,trend_mass_index,0.486792,-0.643911\n",
      "39,trend_dpo,0.136391,0.58471\n",
      "40,trend_kst,0.005747,0.216043\n",
      "41,trend_kst_sig,-0.245328,-0.657612\n",
      "42,trend_kst_diff,-0.159335,0.663055\n",
      "43,trend_ichimoku_base,-0.534132,-0.980973\n",
      "44,trend_ichimoku_a,-0.836878,0.45232\n",
      "45,trend_ichimoku_b,-0.156235,0.752993\n",
      "46,trend_stc,0.875323,-0.14806\n",
      "47,trend_adx,-0.2106,0.943457\n",
      "48,trend_adx_pos,0.222325,0.191975\n",
      "49,trend_adx_neg,0.471089,0.499387\n",
      "50,trend_cci,0.018042,0.723241\n",
      "51,trend_visual_ichimoku_a,0.852314,-0.142103\n",
      "52,trend_visual_ichimoku_b,0.96782,0.216945\n",
      "53,trend_aroon_up,0.520857,0.223567\n",
      "54,trend_aroon_down,0.297561,-0.482402\n",
      "55,trend_aroon_ind,0.704135,0.072848\n",
      "56,trend_psar_up_indicator,0.078758,-0.635853\n",
      "57,trend_psar_down_indicator,-0.421618,-0.982976\n",
      "58,momentum_rsi,-0.729117,-0.684008\n",
      "59,momentum_stoch_rsi,-0.868353,-0.283767\n",
      "60,momentum_stoch_rsi_k,-0.703573,-0.769667\n",
      "61,momentum_stoch_rsi_d,-0.541499,-0.636363\n",
      "62,momentum_tsi,0.433252,0.822183\n",
      "63,momentum_uo,-0.80872,0.693898\n",
      "64,momentum_stoch,-0.386499,0.506297\n",
      "65,momentum_stoch_signal,0.962651,-0.13065\n",
      "66,momentum_ao,-0.954674,0.463263\n",
      "67,momentum_roc,-0.424311,-0.578963\n",
      "68,momentum_ppo,-0.402059,-0.237723\n",
      "69,momentum_ppo_signal,0.177268,-0.833207\n",
      "70,momentum_ppo_hist,0.929002,-0.080774\n",
      "71,momentum_pvo,0.664737,-0.004025\n",
      "72,momentum_pvo_signal,-0.583837,-0.924122\n",
      "73,momentum_pvo_hist,-0.346022,-0.362025\n",
      "74,momentum_kama,-0.410573,0.732172\n",
      "75,others_dr,-0.757932,-0.724034\n",
      "76,others_cr,0.243676,-0.667318\n"
     ]
    }
   ],
   "source": [
    "import pandas as pd\n",
    "import io\n",
    "    \n",
    "features_df = pd.read_csv(io.StringIO('''feature,buy strategy weight,sell strategy weight\n",
    "0,volume_adi,-0.475509,0.248125\n",
    "1,volume_obv,-0.392122,0.629348\n",
    "2,volume_cmf,-0.700548,0.316860\n",
    "3,volume_fi,-0.310061,-0.357925\n",
    "4,volume_em,0.444589,0.196076\n",
    "5,volume_sma_em,0.897539,-0.775987\n",
    "6,volume_vpt,-0.028066,0.261943\n",
    "7,volume_vwap,-0.066981,0.029219\n",
    "8,volume_mfi,0.507734,-0.598308\n",
    "9,volume_nvi,0.850479,-0.241019\n",
    "10,volatility_bbm,-0.314184,0.334498\n",
    "11,volatility_bbh,0.553802,-0.462089\n",
    "12,volatility_bbl,-0.627791,-0.555173\n",
    "13,volatility_bbw,0.511722,0.383260\n",
    "14,volatility_bbp,-0.617424,0.214470\n",
    "15,volatility_bbhi,-0.912522,-0.074703\n",
    "16,volatility_bbli,-0.053100,-0.500613\n",
    "17,volatility_kcc,-0.872027,0.457202\n",
    "18,volatility_kcw,0.520537,-0.683680\n",
    "19,volatility_kcp,0.739222,0.656126\n",
    "20,volatility_kchi,0.919507,-0.406013\n",
    "21,volatility_kcli,-0.582154,-0.197401\n",
    "22,volatility_dcl,0.710688,-0.715471\n",
    "23,volatility_dch,0.607972,0.717455\n",
    "24,volatility_dcm,-0.460623,0.461649\n",
    "25,volatility_dcw,0.902175,-0.836048\n",
    "26,volatility_dcp,0.969965,0.350709\n",
    "27,volatility_atr,0.959112,0.751437\n",
    "28,volatility_ui,0.055574,-0.833787\n",
    "29,trend_macd,-0.900608,-0.412265\n",
    "30,trend_macd_signal,-0.371651,-0.057953\n",
    "31,trend_macd_diff,-0.834561,0.342187\n",
    "32,trend_sma_slow,0.376117,0.066143\n",
    "33,trend_ema_slow,-0.954457,0.103556\n",
    "34,trend_vortex_ind_pos,0.111242,-0.710974\n",
    "35,trend_vortex_ind_neg,-0.480973,0.126699\n",
    "36,trend_vortex_ind_diff,-0.733053,0.228129\n",
    "37,trend_trix,0.017220,-0.676482\n",
    "38,trend_mass_index,0.486792,-0.643911\n",
    "39,trend_dpo,0.136391,0.584710\n",
    "40,trend_kst,0.005747,0.216043\n",
    "41,trend_kst_sig,-0.245328,-0.657612\n",
    "42,trend_kst_diff,-0.159335,0.663055\n",
    "43,trend_ichimoku_base,-0.534132,-0.980973\n",
    "44,trend_ichimoku_a,-0.836878,0.452320\n",
    "45,trend_ichimoku_b,-0.156235,0.752993\n",
    "46,trend_stc,0.875323,-0.148060\n",
    "47,trend_adx,-0.210600,0.943457\n",
    "48,trend_adx_pos,0.222325,0.191975\n",
    "49,trend_adx_neg,0.471089,0.499387\n",
    "50,trend_cci,0.018042,0.723241\n",
    "51,trend_visual_ichimoku_a,0.852314,-0.142103\n",
    "52,trend_visual_ichimoku_b,0.967820,0.216945\n",
    "53,trend_aroon_up,0.520857,0.223567\n",
    "54,trend_aroon_down,0.297561,-0.482402\n",
    "55,trend_aroon_ind,0.704135,0.072848\n",
    "56,trend_psar_up_indicator,0.078758,-0.635853\n",
    "57,trend_psar_down_indicator,-0.421618,-0.982976\n",
    "58,momentum_rsi,-0.729117,-0.684008\n",
    "59,momentum_stoch_rsi,-0.868353,-0.283767\n",
    "60,momentum_stoch_rsi_k,-0.703573,-0.769667\n",
    "61,momentum_stoch_rsi_d,-0.541499,-0.636363\n",
    "62,momentum_tsi,0.433252,0.822183\n",
    "63,momentum_uo,-0.808720,0.693898\n",
    "64,momentum_stoch,-0.386499,0.506297\n",
    "65,momentum_stoch_signal,0.962651,-0.130650\n",
    "66,momentum_ao,-0.954674,0.463263\n",
    "67,momentum_roc,-0.424311,-0.578963\n",
    "68,momentum_ppo,-0.402059,-0.237723\n",
    "69,momentum_ppo_signal,0.177268,-0.833207\n",
    "70,momentum_ppo_hist,0.929002,-0.080774\n",
    "71,momentum_pvo,0.664737,-0.004025\n",
    "72,momentum_pvo_signal,-0.583837,-0.924122\n",
    "73,momentum_pvo_hist,-0.346022,-0.362025\n",
    "74,momentum_kama,-0.410573,0.732172\n",
    "75,others_dr,-0.757932,-0.724034\n",
    "76,others_cr,0.243676,-0.667318\n",
    "'''), sep=\",\")\n",
    "\n",
    "print_file(save_features(DUMP_DIR_PATH, features_df))"
   ],
   "metadata": {
    "collapsed": false,
    "ExecuteTime": {
     "end_time": "2024-05-05T21:48:02.756560Z",
     "start_time": "2024-05-05T21:48:02.720563Z"
    }
   },
   "id": "8122d3d2e9af786",
   "execution_count": 11
  },
  {
   "cell_type": "code",
   "outputs": [
    {
     "name": "stdout",
     "output_type": "stream",
     "text": [
      "[-0.475509 -0.392122 -0.700548 -0.310061  0.444589  0.897539 -0.028066\n",
      " -0.066981  0.507734  0.850479 -0.314184  0.553802 -0.627791  0.511722\n",
      " -0.617424 -0.912522 -0.0531   -0.872027  0.520537  0.739222  0.919507\n",
      " -0.582154  0.710688  0.607972 -0.460623  0.902175  0.969965  0.959112\n",
      "  0.055574 -0.900608 -0.371651 -0.834561  0.376117 -0.954457  0.111242\n",
      " -0.480973 -0.733053  0.01722   0.486792  0.136391  0.005747 -0.245328\n",
      " -0.159335 -0.534132 -0.836878 -0.156235  0.875323 -0.2106    0.222325\n",
      "  0.471089  0.018042  0.852314  0.96782   0.520857  0.297561  0.704135\n",
      "  0.078758 -0.421618 -0.729117 -0.868353 -0.703573 -0.541499  0.433252\n",
      " -0.80872  -0.386499  0.962651 -0.954674 -0.424311 -0.402059  0.177268\n",
      "  0.929002  0.664737 -0.583837 -0.346022 -0.410573 -0.757932  0.243676\n",
      "  0.248125  0.629348  0.31686  -0.357925  0.196076 -0.775987  0.261943\n",
      "  0.029219 -0.598308 -0.241019  0.334498 -0.462089 -0.555173  0.38326\n",
      "  0.21447  -0.074703 -0.500613  0.457202 -0.68368   0.656126 -0.406013\n",
      " -0.197401 -0.715471  0.717455  0.461649 -0.836048  0.350709  0.751437\n",
      " -0.833787 -0.412265 -0.057953  0.342187  0.066143  0.103556 -0.710974\n",
      "  0.126699  0.228129 -0.676482 -0.643911  0.58471   0.216043 -0.657612\n",
      "  0.663055 -0.980973  0.45232   0.752993 -0.14806   0.943457  0.191975\n",
      "  0.499387  0.723241 -0.142103  0.216945  0.223567 -0.482402  0.072848\n",
      " -0.635853 -0.982976 -0.684008 -0.283767 -0.769667 -0.636363  0.822183\n",
      "  0.693898  0.506297 -0.13065   0.463263 -0.578963 -0.237723 -0.833207\n",
      " -0.080774 -0.004025 -0.924122 -0.362025  0.732172 -0.724034 -0.667318]\n"
     ]
    }
   ],
   "source": [
    "strategy = load_strategy(DUMP_DIR_PATH)\n",
    "print(strategy)"
   ],
   "metadata": {
    "collapsed": false,
    "ExecuteTime": {
     "end_time": "2024-05-05T21:48:02.772564Z",
     "start_time": "2024-05-05T21:48:02.759566Z"
    }
   },
   "id": "70259078aa253065",
   "execution_count": 12
  },
  {
   "cell_type": "code",
   "outputs": [
    {
     "name": "stdout",
     "output_type": "stream",
     "text": [
      "gen,nevals,avg,std,min,max\n",
      "0,10,1157.52760562,127.08772267,1000.0,1328.13176793\n",
      "1,6,1238.35926021,291.34472006,821.64938006,1788.59856042\n",
      "2,4,1167.30978005,211.32048944,954.43969379,1678.87285024\n",
      "3,7,1081.87886219,139.98867879,929.04173957,1328.13176793\n",
      "4,6,1031.42667576,155.00414994,842.90989527,1328.13176793\n",
      "5,4,1017.74797306,108.44777429,895.17289946,1328.13176793\n",
      "6,7,1021.17405269,105.00789502,929.4336958,1328.13176793\n",
      "7,8,1036.28433445,118.45029357,930.80619669,1328.13176793\n",
      "8,6,1034.56444835,95.06648491,930.80619669,1191.82876163\n",
      "9,7,1015.66706735,137.86015338,704.2956077,1204.69080785\n",
      "10,8,1021.94934584,128.61741594,822.10343145,1228.56263854\n"
     ]
    }
   ],
   "source": [
    "logbook = [{'gen': 0,\n",
    "  'nevals': 10,\n",
    "  'avg': [1157.52760562],\n",
    "  'std': [127.08772267],\n",
    "  'min': [1000.],\n",
    "  'max': [1328.13176793]},\n",
    " {'gen': 1,\n",
    "  'nevals': 6,\n",
    "  'avg': [1238.35926021],\n",
    "  'std': [291.34472006],\n",
    "  'min': [821.64938006],\n",
    "  'max': [1788.59856042]},\n",
    " {'gen': 2,\n",
    "  'nevals': 4,\n",
    "  'avg': [1167.30978005],\n",
    "  'std': [211.32048944],\n",
    "  'min': [954.43969379],\n",
    "  'max': [1678.87285024]},\n",
    " {'gen': 3,\n",
    "  'nevals': 7,\n",
    "  'avg': [1081.87886219],\n",
    "  'std': [139.98867879],\n",
    "  'min': [929.04173957],\n",
    "  'max': [1328.13176793]},\n",
    " {'gen': 4,\n",
    "  'nevals': 6,\n",
    "  'avg': [1031.42667576],\n",
    "  'std': [155.00414994],\n",
    "  'min': [842.90989527],\n",
    "  'max': [1328.13176793]},\n",
    " {'gen': 5,\n",
    "  'nevals': 4,\n",
    "  'avg': [1017.74797306],\n",
    "  'std': [108.44777429],\n",
    "  'min': [895.17289946],\n",
    "  'max': [1328.13176793]},\n",
    " {'gen': 6,\n",
    "  'nevals': 7,\n",
    "  'avg': [1021.17405269],\n",
    "  'std': [105.00789502],\n",
    "  'min': [929.4336958],\n",
    "  'max': [1328.13176793]},\n",
    " {'gen': 7,\n",
    "  'nevals': 8,\n",
    "  'avg': [1036.28433445],\n",
    "  'std': [118.45029357],\n",
    "  'min': [930.80619669],\n",
    "  'max': [1328.13176793]},\n",
    " {'gen': 8,\n",
    "  'nevals': 6,\n",
    "  'avg': [1034.56444835],\n",
    "  'std': [95.06648491],\n",
    "  'min': [930.80619669],\n",
    "  'max': [1191.82876163]},\n",
    " {'gen': 9,\n",
    "  'nevals': 7,\n",
    "  'avg': [1015.66706735],\n",
    "  'std': [137.86015338],\n",
    "  'min': [704.2956077],\n",
    "  'max': [1204.69080785]},\n",
    " {'gen': 10,\n",
    "  'nevals': 8,\n",
    "  'avg': [1021.94934584],\n",
    "  'std': [128.61741594],\n",
    "  'min': [822.10343145],\n",
    "  'max': [1228.56263854]}]\n",
    "\n",
    "print_file(save_logbook(DUMP_DIR_PATH, logbook))"
   ],
   "metadata": {
    "collapsed": false,
    "ExecuteTime": {
     "end_time": "2024-05-05T21:48:02.852558Z",
     "start_time": "2024-05-05T21:48:02.823562Z"
    }
   },
   "id": "ddd6e99d0307076e",
   "execution_count": 13
  },
  {
   "cell_type": "code",
   "outputs": [
    {
     "data": {
      "text/plain": "[{'gen': 0,\n  'nevals': 10,\n  'avg': 1157.52760562,\n  'std': 127.08772267,\n  'min': 1000.0,\n  'max': 1328.13176793},\n {'gen': 1,\n  'nevals': 6,\n  'avg': 1238.35926021,\n  'std': 291.34472006,\n  'min': 821.64938006,\n  'max': 1788.59856042},\n {'gen': 2,\n  'nevals': 4,\n  'avg': 1167.30978005,\n  'std': 211.32048944,\n  'min': 954.43969379,\n  'max': 1678.87285024},\n {'gen': 3,\n  'nevals': 7,\n  'avg': 1081.87886219,\n  'std': 139.98867879,\n  'min': 929.04173957,\n  'max': 1328.13176793},\n {'gen': 4,\n  'nevals': 6,\n  'avg': 1031.42667576,\n  'std': 155.00414994,\n  'min': 842.90989527,\n  'max': 1328.13176793},\n {'gen': 5,\n  'nevals': 4,\n  'avg': 1017.74797306,\n  'std': 108.44777429,\n  'min': 895.17289946,\n  'max': 1328.13176793},\n {'gen': 6,\n  'nevals': 7,\n  'avg': 1021.17405269,\n  'std': 105.00789502,\n  'min': 929.4336958,\n  'max': 1328.13176793},\n {'gen': 7,\n  'nevals': 8,\n  'avg': 1036.28433445,\n  'std': 118.45029357,\n  'min': 930.80619669,\n  'max': 1328.13176793},\n {'gen': 8,\n  'nevals': 6,\n  'avg': 1034.56444835,\n  'std': 95.06648491,\n  'min': 930.80619669,\n  'max': 1191.82876163},\n {'gen': 9,\n  'nevals': 7,\n  'avg': 1015.66706735,\n  'std': 137.86015338,\n  'min': 704.2956077,\n  'max': 1204.69080785},\n {'gen': 10,\n  'nevals': 8,\n  'avg': 1021.94934584,\n  'std': 128.61741594,\n  'min': 822.10343145,\n  'max': 1228.56263854}]"
     },
     "metadata": {},
     "output_type": "display_data"
    }
   ],
   "source": [
    "logbook = load_logbook(DUMP_DIR_PATH)\n",
    "display(logbook)"
   ],
   "metadata": {
    "collapsed": false,
    "ExecuteTime": {
     "end_time": "2024-05-05T21:48:02.884559Z",
     "start_time": "2024-05-05T21:48:02.862559Z"
    }
   },
   "id": "4936787695fdbb03",
   "execution_count": 14
  }
 ],
 "metadata": {
  "kernelspec": {
   "display_name": "Python 3",
   "language": "python",
   "name": "python3"
  },
  "language_info": {
   "codemirror_mode": {
    "name": "ipython",
    "version": 2
   },
   "file_extension": ".py",
   "mimetype": "text/x-python",
   "name": "python",
   "nbconvert_exporter": "python",
   "pygments_lexer": "ipython2",
   "version": "2.7.6"
  }
 },
 "nbformat": 4,
 "nbformat_minor": 5
}
